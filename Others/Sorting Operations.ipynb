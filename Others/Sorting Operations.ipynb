{
 "cells": [
  {
   "cell_type": "code",
   "execution_count": 1,
   "metadata": {
    "collapsed": true
   },
   "outputs": [],
   "source": [
    "import pandas as pd"
   ]
  },
  {
   "cell_type": "code",
   "execution_count": 2,
   "metadata": {
    "collapsed": true
   },
   "outputs": [],
   "source": [
    "brother_names = [\"Glory Reyes\", \"Lauren Cahill\", \"Tapan Patel\", \"Mark Korattiyil\", \"Katey Franza\"]"
   ]
  },
  {
   "cell_type": "markdown",
   "metadata": {},
   "source": [
    "### To complete the sort, we will combine three operations:\n",
    "\n",
    "#### Step1 :\n",
    "lambda x: x.split(\" \"), which is a function that takes a string x and breaks it up along each blank space. \n",
    "This outputs a list.\n",
    "\n",
    "#### Step 2 :\n",
    "[-1], which takes the last element of a list.\n",
    "\n",
    "#### Step3 :\n",
    "sorted(), which sorts a list."
   ]
  },
  {
   "cell_type": "code",
   "execution_count": 4,
   "metadata": {
    "collapsed": false
   },
   "outputs": [
    {
     "data": {
      "text/plain": [
       "['Lauren Cahill',\n",
       " 'Katey Franza',\n",
       " 'Mark Korattiyil',\n",
       " 'Tapan Patel',\n",
       " 'Glory Reyes']"
      ]
     },
     "execution_count": 4,
     "metadata": {},
     "output_type": "execute_result"
    }
   ],
   "source": [
    "# Sort the variable 'brother_names' by the last elements of each name.\n",
    "sorted(brother_names, key=lambda x: x.split(\" \")[-1])"
   ]
  }
 ],
 "metadata": {
  "anaconda-cloud": {},
  "kernelspec": {
   "display_name": "Python [conda env:data]",
   "language": "python",
   "name": "conda-env-data-py"
  },
  "language_info": {
   "codemirror_mode": {
    "name": "ipython",
    "version": 3
   },
   "file_extension": ".py",
   "mimetype": "text/x-python",
   "name": "python",
   "nbconvert_exporter": "python",
   "pygments_lexer": "ipython3",
   "version": "3.5.2"
  }
 },
 "nbformat": 4,
 "nbformat_minor": 1
}

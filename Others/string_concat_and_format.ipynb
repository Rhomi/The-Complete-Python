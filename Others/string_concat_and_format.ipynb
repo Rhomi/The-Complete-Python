{
 "cells": [
  {
   "cell_type": "code",
   "execution_count": 4,
   "metadata": {
    "collapsed": true
   },
   "outputs": [],
   "source": [
    "# String concatenation in Python is one of the things done inefficiently most of the time\n",
    "# Our code needs to be efficient and scale and also at the same time easily understandable for us and for other developers. "
   ]
  },
  {
   "cell_type": "markdown",
   "metadata": {},
   "source": [
    "#### Here is an example showing how we usually do concatenation for all practical purposes."
   ]
  },
  {
   "cell_type": "code",
   "execution_count": 5,
   "metadata": {
    "collapsed": false
   },
   "outputs": [
    {
     "name": "stdout",
     "output_type": "stream",
     "text": [
      "I am from New York\n",
      "I am from Los Angeles\n",
      "I am from Miami\n",
      "I am from Chicago\n",
      "I am from Dallas\n"
     ]
    }
   ],
   "source": [
    "cities = ['New York', 'Los Angeles', 'Miami', 'Chicago', 'Dallas']\n",
    "\n",
    "for city in cities:\n",
    "    statement = 'I am from ' + city\n",
    "    print(statement)"
   ]
  },
  {
   "cell_type": "markdown",
   "metadata": {
    "collapsed": true
   },
   "source": [
    "#### This is easily read, but unfortunately not the ideal choice. \n",
    "#### You should ideally be using \".join\" whenever you need to concatenate two or more strings."
   ]
  },
  {
   "cell_type": "code",
   "execution_count": 14,
   "metadata": {
    "collapsed": false
   },
   "outputs": [
    {
     "name": "stdout",
     "output_type": "stream",
     "text": [
      "I am from New York\n",
      "I am from Los Angeles\n",
      "I am from Miami\n",
      "I am from Chicago\n",
      "I am from Dallas\n"
     ]
    }
   ],
   "source": [
    "cities = ['New York', 'Los Angeles', 'Miami', 'Chicago', 'Dallas']\n",
    "\n",
    "for city in cities:\n",
    "    # the first pair of single quote is a seperator of sorts. If you give a space, the printed statement will have a \n",
    "    # space inbetween. We can have any characters in between.\n",
    "    statement = ' '.join(['I am from', city])\n",
    "    #pc_statement = '%'.join(['I am from', city])\n",
    "    #comma_statement = ','.join(['I am from', city])\n",
    "    print(statement)\n",
    "    #print(pc_statement)\n",
    "    #print(comma_statement)"
   ]
  },
  {
   "cell_type": "markdown",
   "metadata": {},
   "source": [
    "#### Another fairly common string joining task is with file paths. It can be very tempting to do something like:"
   ]
  },
  {
   "cell_type": "code",
   "execution_count": 26,
   "metadata": {
    "collapsed": true
   },
   "outputs": [],
   "source": [
    "import os\n",
    "path = r'D:\\Learning\\python'"
   ]
  },
  {
   "cell_type": "code",
   "execution_count": 27,
   "metadata": {
    "collapsed": false
   },
   "outputs": [],
   "source": [
    "filename = r'data.txt'"
   ]
  },
  {
   "cell_type": "code",
   "execution_count": 28,
   "metadata": {
    "collapsed": true
   },
   "outputs": [],
   "source": [
    "file_path = path + '\\\\' +filename"
   ]
  },
  {
   "cell_type": "code",
   "execution_count": 30,
   "metadata": {
    "collapsed": false
   },
   "outputs": [
    {
     "data": {
      "text/plain": [
       "'D:\\\\Learning\\\\python\\\\data.txt'"
      ]
     },
     "execution_count": 30,
     "metadata": {},
     "output_type": "execute_result"
    }
   ],
   "source": [
    "file_path"
   ]
  },
  {
   "cell_type": "markdown",
   "metadata": {},
   "source": [
    "#### Well, this isn't the right way to do it!! Instead, we could use join to create file path as well."
   ]
  },
  {
   "cell_type": "code",
   "execution_count": 33,
   "metadata": {
    "collapsed": false
   },
   "outputs": [
    {
     "name": "stdout",
     "output_type": "stream",
     "text": [
      "This is the date in the file!!\n"
     ]
    }
   ],
   "source": [
    "# Using join\n",
    "with open(os.path.join(path, filename)) as f:\n",
    "    print(f.read())"
   ]
  },
  {
   "cell_type": "markdown",
   "metadata": {},
   "source": [
    "### Next, let's talk about string formatting. Let's consider that you want to insert variables into a string, like:\n",
    "### \"blank\" visited \"blank\" today!\n",
    "### The blanks are supposed to be filled by our variables here."
   ]
  },
  {
   "cell_type": "code",
   "execution_count": 40,
   "metadata": {
    "collapsed": false
   },
   "outputs": [
    {
     "name": "stdout",
     "output_type": "stream",
     "text": [
      "New York is one of the biggest cities in the US!!.\n",
      "Los Angeles is one of the biggest cities in the US!!.\n",
      "Miami is one of the biggest cities in the US!!.\n",
      "Chicago is one of the biggest cities in the US!!.\n",
      "Dallas is one of the biggest cities in the US!!.\n"
     ]
    }
   ],
   "source": [
    "cities = ['New York', 'Los Angeles', 'Miami', 'Chicago', 'Dallas']\n",
    "\n",
    "for city in cities:\n",
    "    print('{} is one of the biggest cities in the US!!.'.format(city))"
   ]
  },
  {
   "cell_type": "markdown",
   "metadata": {},
   "source": [
    "#### Here is how you might perform string formatting with nested loops"
   ]
  },
  {
   "cell_type": "code",
   "execution_count": 47,
   "metadata": {
    "collapsed": false
   },
   "outputs": [
    {
     "name": "stdout",
     "output_type": "stream",
     "text": [
      "Sairam visited New York today!!.\n",
      "Preet visited Los Angeles today!!.\n",
      "Margarita visited Miami today!!.\n",
      "Pavan visited Chicago today!!.\n",
      "Jim visited Dallas today!!.\n"
     ]
    }
   ],
   "source": [
    "names = ['Sairam', 'Preet', 'Margarita', 'Pavan', 'Jim']\n",
    "cities = ['New York', 'Los Angeles', 'Miami', 'Chicago', 'Dallas']\n",
    "\n",
    "for name,city in zip(names, cities):\n",
    "    print('{} visited {} today!!.'.format(name, city))"
   ]
  },
  {
   "cell_type": "code",
   "execution_count": null,
   "metadata": {
    "collapsed": true
   },
   "outputs": [],
   "source": []
  },
  {
   "cell_type": "code",
   "execution_count": null,
   "metadata": {
    "collapsed": true
   },
   "outputs": [],
   "source": [
    "     "
   ]
  }
 ],
 "metadata": {
  "anaconda-cloud": {},
  "kernelspec": {
   "display_name": "Python [conda root]",
   "language": "python",
   "name": "conda-root-py"
  },
  "language_info": {
   "codemirror_mode": {
    "name": "ipython",
    "version": 2
   },
   "file_extension": ".py",
   "mimetype": "text/x-python",
   "name": "python",
   "nbconvert_exporter": "python",
   "pygments_lexer": "ipython2",
   "version": "2.7.12"
  }
 },
 "nbformat": 4,
 "nbformat_minor": 1
}

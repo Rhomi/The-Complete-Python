{
 "cells": [
  {
   "cell_type": "markdown",
   "metadata": {},
   "source": [
    "## Summary\n",
    "Computer science is the study of problem solving.\n",
    "\n",
    "Computer science uses abstraction as a tool for representing both processes and data.\n",
    "\n",
    "Abstract data types allow programmers to manage the complexity of a problem domain by hiding the details of the data.\n",
    "\n",
    "Python is a powerful, yet easy-to-use, object-oriented language.\n",
    "\n",
    "Lists, tuples, and strings are built in Python sequential collections.\n",
    "\n",
    "Dictionaries and sets are nonsequential collections of data.\n",
    "\n",
    "Classes allow programmers to implement abstract data types.\n",
    "\n",
    "Programmers can override standard methods as well as create new methods.\n",
    "\n",
    "Classes can be organized into hierarchies.\n",
    "\n",
    "A class constructor should always invoke the constructor of its parent before continuing on with its own data and behavior."
   ]
  },
  {
   "cell_type": "code",
   "execution_count": null,
   "metadata": {
    "collapsed": true
   },
   "outputs": [],
   "source": []
  }
 ],
 "metadata": {
  "kernelspec": {
   "display_name": "Python [conda env:data]",
   "language": "python",
   "name": "conda-env-data-py"
  },
  "language_info": {
   "codemirror_mode": {
    "name": "ipython",
    "version": 3
   },
   "file_extension": ".py",
   "mimetype": "text/x-python",
   "name": "python",
   "nbconvert_exporter": "python",
   "pygments_lexer": "ipython3",
   "version": "3.5.2"
  }
 },
 "nbformat": 4,
 "nbformat_minor": 1
}

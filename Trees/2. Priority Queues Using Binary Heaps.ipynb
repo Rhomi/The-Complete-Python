{
 "cells": [
  {
   "cell_type": "markdown",
   "metadata": {},
   "source": [
    "## Introduction\n",
    "\n",
    "Queues employ a first-in-first our enqueue dequeue approach. It has an important variation called the <b>Priority Queue</b>\n",
    "\n",
    "#####  By Definition:\n",
    "A priority queue acts like a queue in that you dequeue an item by removing it from the front. However, in a priority queue the logical order of items inside a queue is determined by their priority. The highest priority items are at the front of the queue and the lowest priority items are at the back. Thus when you enqueue an item on a priority queue, the new item may move all the way to the front if it is of the highgest priority or even take up a position between the already existing items in the order of their priority (and therefore not necessarily the last position in the queue).\n",
    "\n",
    "#### How to Implement the Queue in the best possible way performance-wise?\n",
    "\n",
    "A couple of easy ways to implement a priority queue is by using sorting functions and lists. However, inserting into a list is 𝑂(𝑛) and sorting a list is 𝑂(𝑛 log 𝑛). We can do better. \n",
    "\n",
    "The classic way to implement a priority queue is using a <b>data structure called a\n",
    "binary heap.</b> A binary heap will allow us both enqueue and dequeue items in <b>𝑂(log 𝑛)</b>.\n",
    "\n",
    "#### What is a Binary Heap?\n",
    "The binary heap is a lot like a tree, but when we implement it we use only a single list as an internal representation. \n",
    "\n",
    "The binary heap has two common variations: the min heap, in which the smallest key is always at the front, and the max heap, in which the largest key value is always at the front. We will implement the min heap. \n",
    "\n",
    "Before we go ahead with the implementation, we should understand that Binary Heaps should have certain capabilities. These are some of the operations a Binary should be able to perform.\n",
    "\n",
    "• BinaryHeap() creates a new, empty, binary heap.\n",
    "\n",
    "• insert(k) adds a new item to the heap.\n",
    "\n",
    "• find_min() returns the item with the minimum key value, leaving item in the heap.\n",
    "\n",
    "• del_min() returns the item with the minimum key value, removing the item from the\n",
    "heap.\n",
    "\n",
    "• is_empty() returns true if the heap is empty, false otherwise.\n",
    "\n",
    "• size() returns the number of items in the heap.\n",
    "\n",
    "• build_heap(list) builds a new heap from a list of keys."
   ]
  },
  {
   "cell_type": "markdown",
   "metadata": {},
   "source": [
    "## Properties of Binary Heap\n",
    "\n",
    "Also, before we implement a Binary Heap, we need to understand 2 very important properties of Binary Heaps.\n",
    "\n",
    "1. Structure Property\n",
    "2. Order Property\n",
    "\n",
    "### Structure Property.\n",
    "\n",
    "In order to make our heap work efficiently, we will take advantage of the <b>logarithmic nature of\n",
    "the binary tree to represent our heap</b>. In order to guarantee logarithmic performance, we must\n",
    "keep our tree <i>balanced</i>. \n",
    "\n",
    "\n",
    "##### Balanced Binary Tree and Complete Trees\n",
    "A balanced binary tree has roughly the same number of nodes in the left and right subtrees of the root. In our heap implementation we keep the tree balanced by creating a complete binary tree. A complete binary tree is a tree in which each level has all of its nodes. The exception to this is the bottom level of the tree, which we fill in from left to right. \n",
    "\n",
    "\n",
    "Another interesting property of a complete tree is that we can represent it using a single list. We\n",
    "do not need to use nodes and references or even lists of lists. Because the tree is complete, the\n",
    "left child of a parent (at position 𝑝) is the node that is found in position 2𝑝 in the list. \n",
    "\n",
    "Similarly, the right child of the parent is at position 2𝑝 + 1 in the list. \n",
    "\n",
    "To find the parent of any node in the tree, we can simply use Python’s integer division. Given that a node is at position 𝑛 in the list, the parent is at position 𝑛/2."
   ]
  },
  {
   "cell_type": "code",
   "execution_count": 2,
   "metadata": {
    "collapsed": true
   },
   "outputs": [],
   "source": [
    "bht = [0,5,9,11,14,18,19,21,33,17,27]"
   ]
  },
  {
   "cell_type": "markdown",
   "metadata": {},
   "source": [
    "Ignor the first element. The Binary Heap starts with 5 which is the root and its index is \"1\". Its children 9 (the left child) is found at 2p i.e. index -> 2. Hence the left child of the root(5) is 9. \n",
    "\n",
    "The right child is at 2p+1. We know thats index -> 3. Hence the right child is 11.\n",
    "\n",
    "The left and right child of 9 is found at 2p which is 2(2) = 4. The item at the index 4 is 14 and the right child is 2p+1 which is index 5 and the item at i5 is 18."
   ]
  },
  {
   "cell_type": "markdown",
   "metadata": {},
   "source": [
    "### Tree Traversal Made Easy\n",
    "\n",
    "Note the 2𝑝 and 2𝑝+1 relationship between parent and children.\n",
    "The list representation of the tree, along with the full structure property, allows us to efficiently traverse a complete binary tree using only a few simple mathematical operations. We will see\n",
    "that this also leads to an efficient implementation of our binary heap."
   ]
  },
  {
   "cell_type": "markdown",
   "metadata": {},
   "source": [
    "### The Heap Order Property\n",
    "The method that we will use to store items in a heap relies on maintaining the heap order\n",
    "property. \n",
    "\n",
    "The heap order property is as follows: In a heap, for every node 𝑥 with parent 𝑝, the\n",
    "key in 𝑝 is smaller than or equal to the key in 𝑥."
   ]
  },
  {
   "cell_type": "markdown",
   "metadata": {},
   "source": [
    "# Let The Implementation Begin"
   ]
  },
  {
   "cell_type": "markdown",
   "metadata": {},
   "source": [
    "We will begin our implementation of a binary heap with a constructor. Since the entire binary heap can be represented by a single list, all the constructor will do is initialize the list\n",
    "and an attribute current_size to keep track of the current size of the heap. To the empty binary heap, we add a single\n",
    "zero as the first element of heap_list and that this zero is not used, but is there so that simple\n",
    "integer division can be used in later methods."
   ]
  },
  {
   "cell_type": "markdown",
   "metadata": {},
   "source": [
    "#### The Constructor and the Single List "
   ]
  },
  {
   "cell_type": "code",
   "execution_count": 4,
   "metadata": {
    "collapsed": true
   },
   "outputs": [],
   "source": [
    "class BinHeap:\n",
    "    def __init__(self):\n",
    "        self.heap_list = [0]\n",
    "        self.current_size = 0"
   ]
  },
  {
   "cell_type": "markdown",
   "metadata": {},
   "source": [
    "#### Insert Operation"
   ]
  },
  {
   "cell_type": "markdown",
   "metadata": {},
   "source": [
    "Next up, we will implement the insert operation. The easiest, and most efficient, way to add\n",
    "an item to a list is to simply append the item to the end of the list. The good news about appending is that we will very likely violate the heap structure property. \n",
    "\n",
    "However, it is possible to write a method that will allow us to regain the heap structure property by comparing the newly added item with its parent. If the newly added item is less than its parent, then we can swap the item with its parent.\n",
    "\n",
    "We call this <b>percolate up</b>. \n",
    "\n",
    "Notice that when we percolate an item up, we are restoring the heap property between the newly added item and the parent. We are also preserving the heap property for any siblings. \n",
    "\n",
    "Of course, if the newly added item is very small, we may still need to swap it up another level. In fact, we may need to keep swapping until we get to the top of the tree. \n",
    "\n",
    "So, lets implement the perc_up method, which percolates a new item as far up in the tree as it needs to go to maintain the heap property. Here is where our wasted element, the first zero at index 0, in heap_list is important.\n",
    "\n",
    "<b>Note:</b> The parent of the current node can be computed by dividing the index of the current node by 2."
   ]
  },
  {
   "cell_type": "code",
   "execution_count": 8,
   "metadata": {
    "collapsed": true
   },
   "outputs": [],
   "source": [
    "def perc_up(self, i):\n",
    "    # Here, i represents the current size of the list. Whenever a new item is added, the size of \n",
    "    # the list increases by 1 and therefore the new item has the same index as the size of the list.\n",
    "    # Which is in turn used to determine the index position of its parent node.\n",
    "    while i // 2 > 0:\n",
    "        # if the new item is less than its parent, it needs to be swapped.\n",
    "        # Notice that the item at i is the child and the item at i//2  is the parent.\n",
    "        if self.heap_list[i] < self.heap_list[i // 2]:\n",
    "            self.heap_list[i], self.heap_list[i // 2] = self.heap_list[i // 2], self.heap_list[i]\n",
    "        i = i // 2"
   ]
  },
  {
   "cell_type": "markdown",
   "metadata": {},
   "source": [
    "We are now ready to write the insert method. Most of the work in the insert method is\n",
    "really done by perc_up. Once a new item is appended to the tree, perc_up takes over and\n",
    "positions the new item properly."
   ]
  },
  {
   "cell_type": "code",
   "execution_count": 9,
   "metadata": {
    "collapsed": true
   },
   "outputs": [],
   "source": [
    "def insert(self, item):\n",
    "    self.heap_list.append(item)\n",
    "    self.current_size = self.current_size + 1\n",
    "    self.perc_up(self.current_size)"
   ]
  },
  {
   "cell_type": "markdown",
   "metadata": {},
   "source": [
    "#### Delete Minimum Operation\n",
    "Since the heap property requires that the root of the tree be the smallest item in the tree, finding the minimum item is easy. The hard part of del_min is restoring full compliance with the heap\n",
    "structure and heap order properties after the root has been removed. \n",
    "\n",
    "We can restore our heap in two steps. \n",
    "\n",
    "1. First, we will restore the root item by taking the last item in the list and moving it\n",
    "to the root position. Moving the last item maintains our heap structure property. However, we\n",
    "have probably destroyed the heap order property of our binary heap. \n",
    "\n",
    "2. Second, we will restore the heap order property by pushing the new root node down the tree to its proper position.\n",
    "\n",
    "In order to maintain the heap order property, all we need to do is swap the root with its smallest\n",
    "child less than the root. After the initial swap, we may repeat the swapping process its new children until the node is swapped into a position on the tree where it is already less\n",
    "than both children. \n",
    "\n",
    "This is called <b>percolate down</b>"
   ]
  },
  {
   "cell_type": "code",
   "execution_count": 18,
   "metadata": {
    "collapsed": true
   },
   "outputs": [],
   "source": [
    "def perc_down(self, i):\n",
    "    # The left child at 2p is accessed as 1*2 where i is the index of the root.\n",
    "    while (i * 2) <= self.current_size:\n",
    "        # Call the min_child function to find the mininmum between the left and the right child\n",
    "        mc = self.min_child(i)\n",
    "        # if the child is smaller than the parent\n",
    "        if self.heap_list[i] > self.heap_list[mc]:\n",
    "            self.heap_list[i],self.heap_list[mc] = self.heap_list[mc],self.heap_list[i]\n",
    "        i = mc\n",
    "\n",
    "\n",
    "def min_child(self, i):\n",
    "    # if there is no right child (if 2p+1 is greater than the size of the list, (kind of an\n",
    "    # array index bounds of situation)), return the left child index as the min_child (mc)\n",
    "    if i * 2 + 1 > self.current_size:\n",
    "        return i * 2\n",
    "    else:\n",
    "        # if the right child exists, compare it with the left\n",
    "        if self.heap_list[i * 2] < self.heap_list[i * 2 + 1]:\n",
    "            return i * 2\n",
    "        else:\n",
    "            return i * 2 + 1"
   ]
  },
  {
   "cell_type": "markdown",
   "metadata": {},
   "source": [
    "Now that we have implemented all the helper functions, the del_min function can be implemented too."
   ]
  },
  {
   "cell_type": "code",
   "execution_count": 12,
   "metadata": {
    "collapsed": true
   },
   "outputs": [],
   "source": [
    "def del_min(self):\n",
    "    # Take the minimum (which is at the top of the tree at index 1) \n",
    "    # remember!! index 0 contains that zero element which we added to make index operations convenient\n",
    "    # We are going to replace it with the last node in the tree\n",
    "    ret_val = self.heap_list[1]\n",
    "    # Put the last item in the list (which is at index position equals size of the list) and\n",
    "    # insert it at the first index. The algorithm states, move the last element to the top of the tree.\n",
    "    self.heap_list[1] = self.heap_list[self.current_size]\n",
    "    # Now that the element is been moved, reduce the size by 1.\n",
    "    self.current_size = self.current_size - 1\n",
    "    # pop the the last item.\n",
    "    self.heap_list.pop()\n",
    "    # Now, move the new root to its appropriate index position. The index position passed to the\n",
    "    # percolate_down method is \"1\". Cos thats where the root is at.\n",
    "    self.perc_down(1)\n",
    "    # Return the minimum value that was removed.\n",
    "    return ret_val"
   ]
  },
  {
   "cell_type": "code",
   "execution_count": null,
   "metadata": {
    "collapsed": true
   },
   "outputs": [],
   "source": []
  },
  {
   "cell_type": "markdown",
   "metadata": {},
   "source": [
    "## The complete code"
   ]
  },
  {
   "cell_type": "code",
   "execution_count": 34,
   "metadata": {
    "collapsed": false
   },
   "outputs": [],
   "source": [
    "class BinHeap:\n",
    "    def __init__(self):\n",
    "        self.heap_list = [0]\n",
    "        self.current_size = 0\n",
    "    def perc_up(self, i):\n",
    "        # Here, i represents the current size of the list. Whenever a new item is added, the size of \n",
    "        # the list increases by 1 and therefore the new item has the same index as the size of the list.\n",
    "        # Which is in turn used to determine the index position of its parent node.\n",
    "        while i // 2 > 0:\n",
    "            # if the new item is less than its parent, it needs to be swapped.\n",
    "            # Notice that the item at i is the child and the item at i//2  is the parent.\n",
    "            if self.heap_list[i] < self.heap_list[i // 2]:\n",
    "                self.heap_list[i], self.heap_list[i // 2] = self.heap_list[i // 2], self.heap_list[i]\n",
    "            i = i // 2\n",
    "    def insert(self, item):\n",
    "        self.heap_list.append(item)\n",
    "        self.current_size = self.current_size + 1\n",
    "        self.perc_up(self.current_size)\n",
    "        \n",
    "    def perc_down(self, i):\n",
    "        # The left child at 2p is accessed as 1*2 where i is the index of the root.\n",
    "        while (i * 2) <= self.current_size:\n",
    "            # Call the min_child function to find the mininmum between the left and the right child\n",
    "            mc = self.min_child(i)\n",
    "            # if the child is smaller than the parent\n",
    "            if self.heap_list[i] > self.heap_list[mc]:\n",
    "                self.heap_list[i],self.heap_list[mc] = self.heap_list[mc],self.heap_list[i]\n",
    "            i = mc\n",
    "\n",
    "\n",
    "    def min_child(self, i):\n",
    "        # if there is no right child (if 2p+1 is greater than the size of the list, (kind of an\n",
    "        # array index bounds of situation)), return the left child index as the min_child (mc)\n",
    "        if i * 2 + 1 > self.current_size:\n",
    "            return i * 2\n",
    "        else:\n",
    "            # if the right child exists, compare it with the left\n",
    "            if self.heap_list[i * 2] < self.heap_list[i * 2 + 1]:\n",
    "                return i * 2\n",
    "            else:\n",
    "                return i * 2 + 1\n",
    "            \n",
    "    def del_min(self):\n",
    "        # Take the minimum (which is at the top of the tree at index 1) \n",
    "        # remember!! index 0 contains that zero element which we added to make index operations convenient\n",
    "        # We are going to replace it with the last node in the tree\n",
    "        ret_val = self.heap_list[1]\n",
    "        # Put the last item in the list (which is at index position equals size of the list) and\n",
    "        # insert it at the first index. The algorithm states, move the last element to the top of the tree.\n",
    "        self.heap_list[1] = self.heap_list[self.current_size]\n",
    "        # Now that the element is been moved, reduce the size by 1.\n",
    "        self.current_size = self.current_size - 1\n",
    "        # pop the the last item.\n",
    "        self.heap_list.pop()\n",
    "        # Now, move the new root to its appropriate index position. The index position passed to the\n",
    "        # percolate_down method is \"1\". Cos thats where the root is at.\n",
    "        self.perc_down(1)\n",
    "        # Return the minimum value that was removed.\n",
    "        return ret_val\n",
    "    \n",
    "    def show_heap(self):\n",
    "        return self.heap_list"
   ]
  },
  {
   "cell_type": "code",
   "execution_count": 35,
   "metadata": {
    "collapsed": true
   },
   "outputs": [],
   "source": [
    "myh = BinHeap()"
   ]
  },
  {
   "cell_type": "code",
   "execution_count": 36,
   "metadata": {
    "collapsed": true
   },
   "outputs": [],
   "source": [
    "myh.insert(6)"
   ]
  },
  {
   "cell_type": "code",
   "execution_count": 37,
   "metadata": {
    "collapsed": true
   },
   "outputs": [],
   "source": [
    "myh.insert(17)"
   ]
  },
  {
   "cell_type": "code",
   "execution_count": 38,
   "metadata": {
    "collapsed": true
   },
   "outputs": [],
   "source": [
    "myh.insert(8)"
   ]
  },
  {
   "cell_type": "code",
   "execution_count": 39,
   "metadata": {
    "collapsed": false
   },
   "outputs": [],
   "source": [
    "myh.insert(8)\n",
    "myh.insert(3)\n",
    "myh.insert(5)\n",
    "myh.insert(11)"
   ]
  },
  {
   "cell_type": "code",
   "execution_count": 45,
   "metadata": {
    "collapsed": false
   },
   "outputs": [
    {
     "data": {
      "text/plain": [
       "[0, 3, 6, 5, 17, 8, 8, 11]"
      ]
     },
     "execution_count": 45,
     "metadata": {},
     "output_type": "execute_result"
    }
   ],
   "source": [
    "myh.show_heap()"
   ]
  },
  {
   "cell_type": "markdown",
   "metadata": {},
   "source": [
    "<b> Note: </b> As you can see, 17, 8, 8, 11 form the bottom of the tree. It is worth noticing that the nodes\n",
    "don't necessarily have to be in increasing order from left to right. As long as child nodes are smaller\n",
    "than their parents, the Heap's order property will be preserved."
   ]
  },
  {
   "cell_type": "code",
   "execution_count": 47,
   "metadata": {
    "collapsed": false
   },
   "outputs": [
    {
     "data": {
      "text/plain": [
       "7"
      ]
     },
     "execution_count": 47,
     "metadata": {},
     "output_type": "execute_result"
    }
   ],
   "source": [
    "myh.current_size"
   ]
  },
  {
   "cell_type": "markdown",
   "metadata": {},
   "source": [
    "## Creating a Binary Heap from a List\n",
    "To finish our discussion of binary heaps, we will look at a method to build an entire heap\n",
    "from a list of keys. The first method you might think of may be like the following. Given a\n",
    "list of keys, you could easily build a heap by inserting each key one at a time. Since you are\n",
    "starting with a list of one item, the list is sorted and you could use binary search to find the\n",
    "right position to insert the next key at a cost of approximately 𝑂(log 𝑛) operations. However,\n",
    "remember that inserting an item in the middle of the list may require 𝑂(𝑛) operations to shift\n",
    "the rest of the list over to make room for the new key. Therefore, to insert 𝑛 keys into the heap\n",
    "would require a total of 𝑂(𝑛 log 𝑛) operations. However, if we start with an entire list then we\n",
    "can build the whole heap in 𝑂(𝑛) operations. The build_heap function shows the code to\n",
    "build the entire heap."
   ]
  },
  {
   "cell_type": "code",
   "execution_count": 50,
   "metadata": {
    "collapsed": true
   },
   "outputs": [],
   "source": [
    "def build_heap(self, a_list):\n",
    "    i = len(a_list) // 2\n",
    "    self.current_size = len(a_list)\n",
    "    self.heap_list = [0] + a_list[:]\n",
    "    while (i > 0):\n",
    "        self.perc_down(i)\n",
    "        i = i - 1"
   ]
  },
  {
   "cell_type": "code",
   "execution_count": 42,
   "metadata": {
    "collapsed": true
   },
   "outputs": [],
   "source": [
    "auto_heap = BinHeap()"
   ]
  },
  {
   "cell_type": "code",
   "execution_count": 56,
   "metadata": {
    "collapsed": true
   },
   "outputs": [],
   "source": [
    "build_heap(auto_heap, [14,6,61,6,2,6,1,4,7,2,6,7,2,25,26,147,1,5,7,2,6,3,1,6,1,516,26,1])"
   ]
  },
  {
   "cell_type": "code",
   "execution_count": 57,
   "metadata": {
    "collapsed": false
   },
   "outputs": [
    {
     "data": {
      "text/plain": [
       "28"
      ]
     },
     "execution_count": 57,
     "metadata": {},
     "output_type": "execute_result"
    }
   ],
   "source": [
    "len([14,6,61,6,2,6,1,4,7,2,6,7,2,25,26,147,1,5,7,2,6,3,1,6,1,516,26,1])"
   ]
  },
  {
   "cell_type": "code",
   "execution_count": 58,
   "metadata": {
    "collapsed": false
   },
   "outputs": [
    {
     "data": {
      "text/plain": [
       "14"
      ]
     },
     "execution_count": 58,
     "metadata": {},
     "output_type": "execute_result"
    }
   ],
   "source": [
    "28//2"
   ]
  },
  {
   "cell_type": "code",
   "execution_count": null,
   "metadata": {
    "collapsed": true
   },
   "outputs": [],
   "source": []
  },
  {
   "cell_type": "code",
   "execution_count": 55,
   "metadata": {
    "collapsed": false
   },
   "outputs": [],
   "source": [
    "#auto_heap.show_heap()"
   ]
  },
  {
   "cell_type": "code",
   "execution_count": 51,
   "metadata": {
    "collapsed": true
   },
   "outputs": [],
   "source": [
    "new_list = [9, 6, 5, 2, 3]"
   ]
  },
  {
   "cell_type": "code",
   "execution_count": 52,
   "metadata": {
    "collapsed": true
   },
   "outputs": [],
   "source": [
    "new_heap = BinHeap()"
   ]
  },
  {
   "cell_type": "code",
   "execution_count": 53,
   "metadata": {
    "collapsed": true
   },
   "outputs": [],
   "source": [
    "build_heap(new_heap,new_list)"
   ]
  },
  {
   "cell_type": "code",
   "execution_count": 54,
   "metadata": {
    "collapsed": false
   },
   "outputs": [
    {
     "data": {
      "text/plain": [
       "[0, 2, 3, 5, 6, 9]"
      ]
     },
     "execution_count": 54,
     "metadata": {},
     "output_type": "execute_result"
    }
   ],
   "source": [
    "new_heap.show_heap()"
   ]
  },
  {
   "cell_type": "code",
   "execution_count": null,
   "metadata": {
    "collapsed": true
   },
   "outputs": [],
   "source": []
  }
 ],
 "metadata": {
  "kernelspec": {
   "display_name": "Python 3",
   "language": "python",
   "name": "python3"
  },
  "language_info": {
   "codemirror_mode": {
    "name": "ipython",
    "version": 3
   },
   "file_extension": ".py",
   "mimetype": "text/x-python",
   "name": "python",
   "nbconvert_exporter": "python",
   "pygments_lexer": "ipython3",
   "version": "3.5.2"
  }
 },
 "nbformat": 4,
 "nbformat_minor": 2
}

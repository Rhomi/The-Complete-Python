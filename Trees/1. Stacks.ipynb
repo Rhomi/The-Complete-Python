{
 "cells": [
  {
   "cell_type": "markdown",
   "metadata": {},
   "source": [
    "## 1.1 Introduction\n",
    "A stack (sometimes called a <b>\"push-down stack\"</b>) is an ordered collection of items where the\n",
    "addition of new items and the removal of existing items always takes place at the same end.\n",
    "\n",
    "\n",
    "This end is commonly referred to as the “top.” The end opposite the top is known as the “base.”\n",
    "\n",
    "The base of the stack is significant since items stored in the stack that are closer to the base\n",
    "represent those that have been in the stack the longest. \n",
    "\n",
    "The most recently added item is the one that is in position to be removed first. This ordering principle is sometimes called LIFO, last-in first-out. It provides an ordering based on length of time in the collection. \n",
    "\n",
    "Newer items are near the top, while older items are near the base.\n",
    "\n",
    "Many examples of stacks occur in everyday situations. Almost any cafeteria has a stack of trays\n",
    "or plates where you take the one at the top, uncovering a new tray or plate for the next customer\n",
    "in line. Imagine a stack of books on a desk. The only book whose cover is visible\n",
    "is the one on top. To access others in the stack, we need to remove the ones that are sitting on\n",
    "top of them."
   ]
  },
  {
   "cell_type": "markdown",
   "metadata": {},
   "source": [
    "## 1.2 Example Implementations\n",
    "Considering this reversal property, you can perhaps think of examples of stacks that occur as you use your computer. For example, every web browser has a Back button. As you navigate from web page to web page, those pages are placed on a stack (actually it is the URLs that are going on the stack). The current page that you are viewing is on the top and the first page you looked at is at the base. If you click on the Back button, you begin to move in reverse order through the pages."
   ]
  },
  {
   "cell_type": "markdown",
   "metadata": {},
   "source": [
    "## 1.3 The Stack Abstract Data Type\n",
    "The stack abstract data type is defined by the following structure and operations. \n",
    "\n",
    "### 1.3.1 Structure\n",
    "A stack is structured, as described above, as an ordered collection of items where items are added to and removed from the end called the “top.” Stacks are ordered LIFO. The stack operations are given\n",
    "below.\n",
    "\n",
    "\n",
    "### 1.3.2 Operations\n",
    "• Stack() creates a new stack that is empty. It needs no parameters and returns an empty\n",
    "stack.\n",
    "\n",
    "• push(item) adds a new item to the top of the stack. It needs the item and returns\n",
    "nothing.\n",
    "\n",
    "• pop() removes the top item from the stack. It needs no parameters and returns the item.\n",
    "The stack is modified.\n",
    "\n",
    "• peek() returns the top item from the stack but does not remove it. It needs no parameters.\n",
    "The stack is not modified.\n",
    "\n",
    "• is_empty() tests to see whether the stack is empty. It needs no parameters and returns\n",
    "a boolean value.\n",
    "\n",
    "• size() returns the number of items on the stack. It needs no parameters and returns an\n",
    "integer.\n",
    "\n",
    "For example, if s is a stack that has been created and starts out empty,"
   ]
  },
  {
   "cell_type": "markdown",
   "metadata": {},
   "source": [
    "## 1.4 Implementing A Stack in Python\n",
    "\n",
    "Now that we have clearly defined the stack as an abstract data type we will turn our attention to\n",
    "using Python to implement the stack. \n",
    "#### Important - \"Recall that when we give an abstract data type a physical implementation we refer to the implementation as a data structure.\"\n",
    "\n",
    "In any object-oriented programming language (we use Python here) the implementation of choice for an abstract data type such as a stack is the creation of a new <i><b>class</b></i>.\n",
    "\n",
    "The stack operations are implemented as <i><b>methods</b></i>.\n",
    "\n",
    "Further, to implement a stack, which is a collection of elements, it makes sense to utilize the power and simplicity of the primitive collections provided by Python.<b><i> We will use a list</b></i>.\n",
    "\n",
    "Recall that the list class in Python provides an ordered collection mechanism and a set of\n",
    "methods. \n",
    "\n",
    "For example, if we have the list [2, 5, 3, 6, 7, 4], we need only to decide which end of\n",
    "the list will be considered the top of the stack and which will be the base. Once that decision is\n",
    "made, the operations can be implemented using the list methods such as append and pop.\n",
    "\n",
    "\n",
    "The following stack implementation assumes that the end of the list will hold the top element\n",
    "of the stack. As the stack grows (as push operations occur), new items will be added on the\n",
    "end of the list. pop operations will manipulate that same end."
   ]
  },
  {
   "cell_type": "code",
   "execution_count": 1,
   "metadata": {
    "collapsed": false
   },
   "outputs": [],
   "source": [
    "# Completed implementation of a stack ADT (ADT stands for Abstract Data Types)\n",
    "class Stack:\n",
    "    # Constructor\n",
    "    def __init__(self):\n",
    "        self.items = []\n",
    "    # all stack operations as methods\n",
    "    \n",
    "    # is_empty() tests to see whether the stack is empty. It needs no parameters and returns a boolean value.\n",
    "    def is_empty(self):\n",
    "        return self.items == []\n",
    "    def push(self, item): #It needs the item and returns nothing.\n",
    "        self.items.append(item)\n",
    "    def pop(self): # It needs no parameters and returns the item. The stack is modified.\n",
    "        return self.items.pop()\n",
    "    # returns the top item from the stack but does not remove it. It needs no parameters.\n",
    "    # The stack is not modified.\n",
    "    def peek(self): \n",
    "        return self.items[len(self.items)-1]\n",
    "    # size() returns the number of items on the stack. It needs no parameters and returns an integer.\n",
    "    def size(self):\n",
    "        return len(self.items)"
   ]
  },
  {
   "cell_type": "markdown",
   "metadata": {},
   "source": [
    "## A little Refresher on Classes, Constructor and Self\n",
    "\n",
    "The first method that all classes should provide is the constructor. The constructor defines the way in which data objects are created. In Python, the constructor method is always called __init__ (two underscores before and after init).\n",
    "\n",
    "The constructor takes in a formal parameter called \"self\" -- not a reserved keyword. \"self\" is a special parameter that will always be used as a reference back to the object itself. It must always be the first formal parameter; however, it will never be given an actual parameter value upon invocation.\n",
    "\n",
    "We could use other keywords as well, but it is recommended that we stick with \"self\" for better readability and universal acceptance.\n",
    "\n",
    "There are two types of variables,\n",
    "\n",
    "1. Class variables and \n",
    "\n",
    "2. Instance variables"
   ]
  },
  {
   "cell_type": "markdown",
   "metadata": {},
   "source": [
    "#### Which one is better in terms of Performance improvement and for the Pythonic way of coding??\n",
    "\n",
    "##### Answers from Stack Overflow https://stackoverflow.com/questions/2714573/instance-variables-vs-class-variables-in-python\n",
    "\n",
    "https://stackoverflow.com/questions/3434581/accessing-a-class-member-variables-in-python/3434596#3434596\n",
    "\n",
    "Using instance attributes are the typical, more idiomatic Python. class attributes are not oft-used -- at least not in production code in my last 13+ consecutive years of Python. the same is true for static and class methods... just not very common unless there's a specific use case or an aberrant programmer wanting to show off they know some obscure corners of Python programming.\n",
    "\n",
    "Access to instance variables are faster due to one less level of lookup -- the search happens in this order:\n",
    "\n",
    "1. locals\n",
    "\n",
    "2. nonlocals\n",
    "\n",
    "3. globals\n",
    "\n",
    "4. built-ins\n",
    "\n",
    "\n",
    "###### for attribute access, the order is:\n",
    "1. instance\n",
    "\n",
    "2. class\n",
    "\n",
    "3. base classes as determined by the MRO (method resolution order)\n",
    "\n",
    "When we look up for a variable, let's say \"a\". When it encounters a reference like \"self.a\", Python will look at the instance attributes first for a match; when that fails, it checks the class from which the object was instantiated from. Finally, it will search the base classes. If the attribute is found in the instance, it won't defer to the class, hence a little bit of time and performance savings.\n"
   ]
  },
  {
   "cell_type": "markdown",
   "metadata": {},
   "source": [
    "Remember that nothing happens when we click the run button other than the definition of the\n",
    "class getting interpreted and created. We must create a Stack object and then use it."
   ]
  },
  {
   "cell_type": "code",
   "execution_count": 2,
   "metadata": {
    "collapsed": true
   },
   "outputs": [],
   "source": [
    "s = Stack()"
   ]
  },
  {
   "cell_type": "code",
   "execution_count": 3,
   "metadata": {
    "collapsed": false
   },
   "outputs": [
    {
     "data": {
      "text/plain": [
       "True"
      ]
     },
     "execution_count": 3,
     "metadata": {},
     "output_type": "execute_result"
    }
   ],
   "source": [
    "s.is_empty()"
   ]
  },
  {
   "cell_type": "code",
   "execution_count": 4,
   "metadata": {
    "collapsed": true
   },
   "outputs": [],
   "source": [
    "## Now that we have a stack, lets try out all possible operations.\n",
    "s.push(1)\n",
    "s.push('Hello')\n",
    "s.push(True)"
   ]
  },
  {
   "cell_type": "code",
   "execution_count": 5,
   "metadata": {
    "collapsed": false
   },
   "outputs": [
    {
     "data": {
      "text/plain": [
       "True"
      ]
     },
     "execution_count": 5,
     "metadata": {},
     "output_type": "execute_result"
    }
   ],
   "source": [
    "s.peek()"
   ]
  },
  {
   "cell_type": "code",
   "execution_count": 6,
   "metadata": {
    "collapsed": false
   },
   "outputs": [
    {
     "data": {
      "text/plain": [
       "3"
      ]
     },
     "execution_count": 6,
     "metadata": {},
     "output_type": "execute_result"
    }
   ],
   "source": [
    "s.size()"
   ]
  },
  {
   "cell_type": "code",
   "execution_count": 7,
   "metadata": {
    "collapsed": false
   },
   "outputs": [
    {
     "data": {
      "text/plain": [
       "True"
      ]
     },
     "execution_count": 7,
     "metadata": {},
     "output_type": "execute_result"
    }
   ],
   "source": [
    "s.pop()"
   ]
  },
  {
   "cell_type": "code",
   "execution_count": 8,
   "metadata": {
    "collapsed": false
   },
   "outputs": [
    {
     "data": {
      "text/plain": [
       "[1, 'Hello']"
      ]
     },
     "execution_count": 8,
     "metadata": {},
     "output_type": "execute_result"
    }
   ],
   "source": [
    "s.items"
   ]
  },
  {
   "cell_type": "code",
   "execution_count": 9,
   "metadata": {
    "collapsed": false
   },
   "outputs": [
    {
     "data": {
      "text/plain": [
       "False"
      ]
     },
     "execution_count": 9,
     "metadata": {},
     "output_type": "execute_result"
    }
   ],
   "source": [
    "s.is_empty()"
   ]
  },
  {
   "cell_type": "code",
   "execution_count": null,
   "metadata": {
    "collapsed": true
   },
   "outputs": [],
   "source": []
  },
  {
   "cell_type": "markdown",
   "metadata": {},
   "source": [
    "It is important to note that we could have chosen to implement the stack using a list where\n",
    "the top is at the beginning instead of at the end. In this case, the previous pop and append\n",
    "methods would no longer work and we would have to index position 0 (the first item in the\n",
    "list) explicitly using pop and insert. The implementation is shown below."
   ]
  },
  {
   "cell_type": "code",
   "execution_count": 10,
   "metadata": {
    "collapsed": true
   },
   "outputs": [],
   "source": [
    "class ReverseStack:\n",
    "    def __init__(self):\n",
    "        self.items = []\n",
    "    def is_empty(self):\n",
    "        return self.items == []\n",
    "    def push(self, item):\n",
    "        self.items.insert(0, item)\n",
    "    def pop(self):\n",
    "        return self.items.pop(0)\n",
    "    def peek(self):\n",
    "        return self.items[0]\n",
    "    def size(self):\n",
    "        return len(self.items)"
   ]
  },
  {
   "cell_type": "code",
   "execution_count": 11,
   "metadata": {
    "collapsed": true
   },
   "outputs": [],
   "source": [
    "r = ReverseStack()"
   ]
  },
  {
   "cell_type": "code",
   "execution_count": 12,
   "metadata": {
    "collapsed": true
   },
   "outputs": [],
   "source": [
    "r.push('hello')"
   ]
  },
  {
   "cell_type": "code",
   "execution_count": 13,
   "metadata": {
    "collapsed": true
   },
   "outputs": [],
   "source": [
    "r.push('world')"
   ]
  },
  {
   "cell_type": "code",
   "execution_count": 14,
   "metadata": {
    "collapsed": false
   },
   "outputs": [
    {
     "data": {
      "text/plain": [
       "'world'"
      ]
     },
     "execution_count": 14,
     "metadata": {},
     "output_type": "execute_result"
    }
   ],
   "source": [
    "r.pop()"
   ]
  },
  {
   "cell_type": "code",
   "execution_count": 15,
   "metadata": {
    "collapsed": false
   },
   "outputs": [
    {
     "data": {
      "text/plain": [
       "['hello']"
      ]
     },
     "execution_count": 15,
     "metadata": {},
     "output_type": "execute_result"
    }
   ],
   "source": [
    "r.items"
   ]
  },
  {
   "cell_type": "markdown",
   "metadata": {},
   "source": [
    "#### The performance difference between these two implementations\n",
    "This ability to change the physical implementation of an abstract data type while maintaining\n",
    "the logical characteristics is an example of abstraction at work. However, even though the\n",
    "stack will work either way, if we consider the performance of the two implementations, there\n",
    "is definitely a difference. Recall that the append and pop() operations were both 𝑂(1). This\n",
    "means that the first implementation will perform push and pop in constant time no matter how\n",
    "many items are on the stack. The performance of the second implementation suffers in that\n",
    "the insert(0) and pop(0) operations will both require 𝑂(𝑛) for a stack of size 𝑛. Clearly, even\n",
    "though the implementations are logically equivalent, they would have very different timings\n",
    "when performing benchmark testing."
   ]
  },
  {
   "cell_type": "markdown",
   "metadata": {},
   "source": [
    "### Tests on our Stack"
   ]
  },
  {
   "cell_type": "code",
   "execution_count": 16,
   "metadata": {
    "collapsed": false
   },
   "outputs": [
    {
     "name": "stdout",
     "output_type": "stream",
     "text": [
      "1\n",
      "2\n"
     ]
    },
    {
     "ename": "IndexError",
     "evalue": "pop from empty list",
     "output_type": "error",
     "traceback": [
      "\u001b[0;31m---------------------------------------------------------------------------\u001b[0m",
      "\u001b[0;31mIndexError\u001b[0m                                Traceback (most recent call last)",
      "\u001b[0;32m<ipython-input-16-5f077d1377d5>\u001b[0m in \u001b[0;36m<module>\u001b[0;34m()\u001b[0m\n\u001b[1;32m     10\u001b[0m     \u001b[0mprint\u001b[0m\u001b[1;33m(\u001b[0m\u001b[0mcount\u001b[0m\u001b[1;33m)\u001b[0m\u001b[1;33m\u001b[0m\u001b[0m\n\u001b[1;32m     11\u001b[0m     \u001b[0mm\u001b[0m\u001b[1;33m.\u001b[0m\u001b[0mpop\u001b[0m\u001b[1;33m(\u001b[0m\u001b[1;33m)\u001b[0m\u001b[1;33m\u001b[0m\u001b[0m\n\u001b[0;32m---> 12\u001b[0;31m     \u001b[0mm\u001b[0m\u001b[1;33m.\u001b[0m\u001b[0mpop\u001b[0m\u001b[1;33m(\u001b[0m\u001b[1;33m)\u001b[0m\u001b[1;33m\u001b[0m\u001b[0m\n\u001b[0m",
      "\u001b[0;32m<ipython-input-1-a64a099839db>\u001b[0m in \u001b[0;36mpop\u001b[0;34m(self)\u001b[0m\n\u001b[1;32m     12\u001b[0m         \u001b[0mself\u001b[0m\u001b[1;33m.\u001b[0m\u001b[0mitems\u001b[0m\u001b[1;33m.\u001b[0m\u001b[0mappend\u001b[0m\u001b[1;33m(\u001b[0m\u001b[0mitem\u001b[0m\u001b[1;33m)\u001b[0m\u001b[1;33m\u001b[0m\u001b[0m\n\u001b[1;32m     13\u001b[0m     \u001b[1;32mdef\u001b[0m \u001b[0mpop\u001b[0m\u001b[1;33m(\u001b[0m\u001b[0mself\u001b[0m\u001b[1;33m)\u001b[0m\u001b[1;33m:\u001b[0m \u001b[1;31m# It needs no parameters and returns the item. The stack is modified.\u001b[0m\u001b[1;33m\u001b[0m\u001b[0m\n\u001b[0;32m---> 14\u001b[0;31m         \u001b[1;32mreturn\u001b[0m \u001b[0mself\u001b[0m\u001b[1;33m.\u001b[0m\u001b[0mitems\u001b[0m\u001b[1;33m.\u001b[0m\u001b[0mpop\u001b[0m\u001b[1;33m(\u001b[0m\u001b[1;33m)\u001b[0m\u001b[1;33m\u001b[0m\u001b[0m\n\u001b[0m\u001b[1;32m     15\u001b[0m     \u001b[1;31m# returns the top item from the stack but does not remove it. It needs no parameters.\u001b[0m\u001b[1;33m\u001b[0m\u001b[1;33m\u001b[0m\u001b[0m\n\u001b[1;32m     16\u001b[0m     \u001b[1;31m# The stack is not modified.\u001b[0m\u001b[1;33m\u001b[0m\u001b[1;33m\u001b[0m\u001b[0m\n",
      "\u001b[0;31mIndexError\u001b[0m: pop from empty list"
     ]
    }
   ],
   "source": [
    "# Example 1\n",
    "\n",
    "m = Stack()\n",
    "m.push('x')\n",
    "m.push('y')\n",
    "m.push('z')\n",
    "count = 0\n",
    "while not m.is_empty():\n",
    "    count = count + 1\n",
    "    print(count)\n",
    "    m.pop()\n",
    "    m.pop()"
   ]
  },
  {
   "cell_type": "code",
   "execution_count": 17,
   "metadata": {
    "collapsed": false
   },
   "outputs": [
    {
     "data": {
      "text/plain": [
       "'z'"
      ]
     },
     "execution_count": 17,
     "metadata": {},
     "output_type": "execute_result"
    }
   ],
   "source": [
    "# Example 2\n",
    "\n",
    "m = Stack()\n",
    "m.push('x')\n",
    "m.push('y')\n",
    "m.pop()\n",
    "m.push('z')\n",
    "m.peek()"
   ]
  },
  {
   "cell_type": "markdown",
   "metadata": {},
   "source": [
    "## Solving Real-world Problems with Stacks\n",
    "### Balanced Parentheses\n",
    "Blanced Parantheses means that each opening symbol has a corresponding closing symbol and the pairs\n",
    "of parentheses are properly nested. Consider the following correctly balanced strings of\n",
    "parentheses:\n",
    "\n",
    "1. (()()()())\n",
    "2. (((())))\n",
    "3. (()((())()))\n",
    "\n",
    "\n",
    "Compare those with the following, which are not balanced:\n",
    "1. ((((((())\n",
    "2. ()))\n",
    "3. (()()(()"
   ]
  },
  {
   "cell_type": "code",
   "execution_count": 43,
   "metadata": {
    "collapsed": false
   },
   "outputs": [],
   "source": [
    "def par_checker(symbol_string):\n",
    "    s = Stack()\n",
    "    balanced = True\n",
    "    index = 0\n",
    "    while index < len(symbol_string) and balanced:\n",
    "        symbol = symbol_string[index]\n",
    "        if symbol == \"(\":\n",
    "            print('Its in if ', index)\n",
    "            s.push(symbol)\n",
    "        else:\n",
    "            print('Its in else ', index)\n",
    "            if s.is_empty():\n",
    "                print('Its in else if ', index)\n",
    "                balanced = False\n",
    "            else:\n",
    "                print('Its in else else ', index)\n",
    "                s.pop()\n",
    "\n",
    "        index = index + 1\n",
    "\n",
    "    if balanced and s.is_empty():\n",
    "        print('index is',index)\n",
    "        return True\n",
    "    else:\n",
    "        print('final index is',index)\n",
    "        return False"
   ]
  },
  {
   "cell_type": "code",
   "execution_count": 44,
   "metadata": {
    "collapsed": false
   },
   "outputs": [
    {
     "name": "stdout",
     "output_type": "stream",
     "text": [
      "Its in else  0\n",
      "Its in else if  0\n",
      "final index is 1\n",
      "False\n"
     ]
    }
   ],
   "source": [
    "print(par_checker(')(())'))"
   ]
  },
  {
   "cell_type": "code",
   "execution_count": 41,
   "metadata": {
    "collapsed": false
   },
   "outputs": [
    {
     "name": "stdout",
     "output_type": "stream",
     "text": [
      "Its in if  0\n",
      "Its in if  1\n",
      "Its in if  2\n",
      "Its in else  3\n",
      "Its in else else  3\n",
      "Its in else  4\n",
      "Its in else else  4\n",
      "Its in else  5\n",
      "Its in else else  5\n",
      "index is 6\n",
      "True\n"
     ]
    }
   ],
   "source": [
    "print(par_checker('((()))'))"
   ]
  },
  {
   "cell_type": "code",
   "execution_count": 31,
   "metadata": {
    "collapsed": false
   },
   "outputs": [
    {
     "name": "stdout",
     "output_type": "stream",
     "text": [
      "Its in if  0\n",
      "Its in if  1\n",
      "Its in else  2\n",
      "Its in else else  2\n",
      "final index is 3\n",
      "False\n"
     ]
    }
   ],
   "source": [
    "print(par_checker('(()'))"
   ]
  },
  {
   "cell_type": "markdown",
   "metadata": {
    "collapsed": true
   },
   "source": [
    "## Balanced Symbols (A General Case)\n",
    "The balanced parentheses problem shown above is a specific case of a more general situation\n",
    "that arises in many programming languages. The general problem of balancing and nesting\n",
    "different kinds of opening and closing symbols occurs frequently. For example, in Python\n",
    "square brackets, [ and ], are used for lists; curly braces, { and }, are used for dictionaries;\n",
    "and parentheses, ( and ), are used for tuples and arithmetic expressions. It is possible to mix\n",
    "symbols as long as each maintains its own open and close relationship. Strings of symbols\n",
    "such as\n",
    "\n",
    "{ { ( [ ] [ ] ) } ( ) }\n",
    "\n",
    "are properly balanced in that not only does each opening symbol have a corresponding closing\n",
    "symbol, but the types of symbols match as well."
   ]
  },
  {
   "cell_type": "markdown",
   "metadata": {},
   "source": [
    "The simple parentheses checker from the previous section can easily be extended to handle\n",
    "these new types of symbols. Recall that each opening symbol is simply pushed on the stack to\n",
    "wait for the matching closing symbol to appear later in the sequence. When a closing symbol\n",
    "does appear, the only difference is that we must check to be sure that it correctly matches the\n",
    "type of the opening symbol on top of the stack. If the two symbols do not match, the string is\n",
    "not balanced. Once again, if the entire string is processed and nothing is left on the stack, the\n",
    "string is correctly balanced.\n",
    "\n",
    "The Python program to implement this is shown below The only change appears in line 16\n",
    "where we call a helper function, matches, to assist with symbol-matching. Each symbol that is\n",
    "removed from the stack must be checked to see that it matches the current closing symbol. If a\n",
    "mismatch occurs, the boolean variable balanced is set to False."
   ]
  },
  {
   "cell_type": "code",
   "execution_count": 38,
   "metadata": {
    "collapsed": true
   },
   "outputs": [],
   "source": [
    "def matches(open, close):\n",
    "    opens = \"([{\"\n",
    "    closes = \")]}\"\n",
    "    return opens.index(open) == closes.index(close)\n",
    "\n",
    "def par_checker_general(symbol_string):\n",
    "    s = Stack()\n",
    "    balanced = True\n",
    "    index = 0\n",
    "    while index < len(symbol_string) and balanced:\n",
    "        symbol = symbol_string[index]\n",
    "        if symbol in \"([{\":\n",
    "            print('Its in if ', index)\n",
    "            s.push(symbol)\n",
    "        else:\n",
    "            print('Its in else ', index)\n",
    "            if s.is_empty():\n",
    "                print('Its in else if ', index)\n",
    "                balanced = False\n",
    "            else:\n",
    "                print('Its in else else ', index)\n",
    "                top = s.pop()\n",
    "                if not matches(top, symbol):\n",
    "                    balanced = False\n",
    "\n",
    "        index = index + 1\n",
    "\n",
    "    if balanced and s.is_empty():\n",
    "        print('index is',index)\n",
    "        return True\n",
    "    else:\n",
    "        print('final index is',index)\n",
    "        return False"
   ]
  },
  {
   "cell_type": "code",
   "execution_count": 33,
   "metadata": {
    "collapsed": false
   },
   "outputs": [
    {
     "name": "stdout",
     "output_type": "stream",
     "text": [
      "Its in if  0\n",
      "Its in if  1\n",
      "Its in if  2\n",
      "Its in if  3\n",
      "Its in else  4\n",
      "Its in else else  4\n",
      "Its in if  5\n",
      "Its in else  6\n",
      "Its in else else  6\n",
      "Its in else  7\n",
      "Its in else else  7\n",
      "Its in else  8\n",
      "Its in else else  8\n",
      "Its in if  9\n",
      "Its in else  10\n",
      "Its in else else  10\n",
      "Its in else  11\n",
      "Its in else else  11\n",
      "index is 12\n",
      "True\n"
     ]
    }
   ],
   "source": [
    "print(par_checker_general('{{([][])}()}'))"
   ]
  },
  {
   "cell_type": "code",
   "execution_count": 35,
   "metadata": {
    "collapsed": false
   },
   "outputs": [
    {
     "name": "stdout",
     "output_type": "stream",
     "text": [
      "Its in if  0\n",
      "Its in if  1\n",
      "Its in if  2\n",
      "Its in else  3\n",
      "Its in else else  3\n",
      "Its in else  4\n",
      "Its in else else  4\n",
      "final index is 5\n",
      "False\n"
     ]
    }
   ],
   "source": [
    "print(par_checker_general('[{()]'))"
   ]
  },
  {
   "cell_type": "markdown",
   "metadata": {},
   "source": [
    "These two examples show that stacks are very important data structures for the processing\n",
    "of language constructs in computer science. Almost any notation you can think of has some\n",
    "type of nested symbol that must be matched in a balanced order. There are a number of other\n",
    "important uses for stacks in computer science. We will continue to explore them in the next\n",
    "sections"
   ]
  },
  {
   "cell_type": "markdown",
   "metadata": {},
   "source": [
    "## Converting Decimal Numbers to Binary Numbers\n",
    "\n",
    "In computer science, we have been exposed to the notion of binary numbers. Binary representation is important in computer science since all values stored within a computer exist as a string of binary digits, a string of 0s and 1s.\n",
    "\n",
    "Without the ability to convert back and forth between common representations and binary numbers, we\n",
    "would need to interact with computers in very awkward ways.\n",
    "\n",
    "Integer values are common data items. They are used in computer programs and computation\n",
    "all the time. We learn about them in math class and of course represent them using the decimal\n",
    "number system, or base 10. The decimal number 23310 and its corresponding binary equivalent\n",
    "111010012 are interpreted respectively as 2 * 102 + 3 * 101 + 3 * 100 and 1 * 27 + 1 * 26 + 1 *\n",
    "25 + 0 * 24 + 1 * 23 + 0 * 22 + 0 * 21 + 1 * 20\n",
    "\n",
    "But how can we easily convert integer values into binary numbers? The answer is an algorithm\n",
    "called “Divide by 2” that uses a stack to keep track of the digits for the binary result.\n",
    "The Divide by 2 algorithm assumes that we start with an integer greater than 0. A simple iteration then continually divides the decimal number by 2 and keeps track of the remainder.\n",
    "\n",
    "The first division by 2 gives information as to whether the value is even or odd. An even value\n",
    "will have a remainder of 0. It will have the digit 0 in the ones place. An odd value will have a\n",
    "remainder of 1 and will have the digit 1 in the ones place. We think about building our binary\n",
    "number as a sequence of digits; the first remainder we compute will actually be the last digit\n",
    "in the sequence. \n",
    "\n",
    "Again we see the reversal property that signals that a stack is likely to be the appropriate data structure for solving the problem. The Python code below implements the Divide by 2 algorithm. The function divide_by_2 takes an argument that is a decimal number and repeatedly divides it by 2. Line 7 uses the built-in modulo operator, %, to extract the remainder and line 8 then pushes it on the stack.\n",
    "\n",
    "After the division process reaches 0, a binary string is constructed. The binary digits are popped from the stack one at a time and appended to the right-hand end of the string. The binary string is then returned."
   ]
  },
  {
   "cell_type": "code",
   "execution_count": 48,
   "metadata": {
    "collapsed": false
   },
   "outputs": [
    {
     "name": "stdout",
     "output_type": "stream",
     "text": [
      "110100101\n"
     ]
    }
   ],
   "source": [
    "def divide_by_2(decimal_number):\n",
    "    remainder_stack = Stack()\n",
    "    while decimal_number > 0:\n",
    "        remainder = decimal_number % 2\n",
    "        remainder_stack.push(remainder)\n",
    "        decimal_number = decimal_number // 2\n",
    "\n",
    "    binary_string = \"\"\n",
    "    while not remainder_stack.is_empty():\n",
    "        binary_string = binary_string + str(remainder_stack.pop())\n",
    "\n",
    "    return binary_string\n",
    "\n",
    "print(divide_by_2(421))"
   ]
  },
  {
   "cell_type": "markdown",
   "metadata": {},
   "source": [
    "The algorithm for binary conversion can easily be extended to perform the conversion for any\n",
    "base. In computer science it is common to use a number of different encodings. The most\n",
    "common of these are binary, octal (base 8), and hexadecimal (base 16).\n",
    "\n",
    "The decimal number 233 and its corresponding octal and hexadecimal equivalents 351(base 8) and\n",
    "𝐸9(base 16) are interpreted as 3 x 8^2 + 5 x 8^1 + 1 x 8^0 and 14(Equivalent of E) x 16^1 + 9 x 16^0.\n",
    "\n",
    "The function divide_by_2 can be modified to accept not only a decimal value but also a\n",
    "base for the intended conversion. The “Divide by 2” idea is simply replaced with a more\n",
    "general “Divide by base.” A new function called base_converter takes a decimal number and any base \n",
    "between 2 and 16 as parameters. The remainders are still\n",
    "pushed onto the stack until the value being converted becomes 0. The same left-to-right\n",
    "string construction technique can be used with one slight change. Base 2 through base 10 numbers need a maximum of 10 digits, so the typical digit characters 0, 1, 2, 3, 4, 5, 6, 7,\n",
    "8, and 9 work fine. The problem comes when we go beyond base 10. We can no longer\n",
    "simply use the remainders, as they are themselves represented as two-digit decimal numbers.\n",
    "Instead we need to create a set of digits that can be used to represent those remainders beyond 9."
   ]
  },
  {
   "cell_type": "code",
   "execution_count": 66,
   "metadata": {
    "collapsed": false
   },
   "outputs": [
    {
     "name": "stdout",
     "output_type": "stream",
     "text": [
      "14\n",
      "7\n",
      "3\n",
      "1\n",
      "0\n",
      "1\n",
      "11\n",
      "111\n",
      "1110\n",
      "11101\n",
      "11101\n",
      "3\n",
      "0\n",
      "3\n",
      "35\n",
      "35\n",
      "1\n",
      "0\n",
      "1\n",
      "1D\n",
      "1D\n"
     ]
    }
   ],
   "source": [
    "def base_converter(number, base):\n",
    "    digits = \"0123456789ABCDEF\"\n",
    "    remainder_stack = Stack()\n",
    "    while number > 0:\n",
    "        remainder = number % base\n",
    "        remainder_stack.push(remainder)\n",
    "        number = number // base\n",
    "        print(number)\n",
    "    \n",
    "    new_string = \"\"\n",
    "    while not remainder_stack.is_empty():\n",
    "        new_string = new_string + digits[remainder_stack.pop()]\n",
    "        print(new_string)\n",
    "\n",
    "    return new_string\n",
    "\n",
    "print(base_converter(29,2))\n",
    "print(base_converter(29,8))\n",
    "print(base_converter(29,16))"
   ]
  },
  {
   "cell_type": "markdown",
   "metadata": {},
   "source": [
    "A solution to this problem is to extend the digit set to include some alphabet characters. For\n",
    "example, hexadecimal uses the ten decimal digits along with the first six alphabet characters\n",
    "for the 16 digits. To implement this, a digit string is created that stores the digits in their\n",
    "corresponding positions. 0 is at position 0, 1 is at position 1, A is at position 10, B is at position\n",
    "11, and so on. \n",
    "\n",
    "When a remainder is removed from the stack, it can be used to index into the\n",
    "digit string and the correct resulting digit can be appended to the answer. For example, if the\n",
    "remainder 13 is removed from the stack, the digit D is appended to the resulting string."
   ]
  },
  {
   "cell_type": "code",
   "execution_count": 62,
   "metadata": {
    "collapsed": false
   },
   "outputs": [
    {
     "name": "stdout",
     "output_type": "stream",
     "text": [
      "128\n",
      "64\n",
      "32\n",
      "16\n",
      "8\n",
      "4\n",
      "2\n",
      "1\n",
      "0\n"
     ]
    },
    {
     "data": {
      "text/plain": [
       "'100000000'"
      ]
     },
     "execution_count": 62,
     "metadata": {},
     "output_type": "execute_result"
    }
   ],
   "source": [
    "base_converter(256,2)"
   ]
  },
  {
   "cell_type": "code",
   "execution_count": 67,
   "metadata": {
    "collapsed": false
   },
   "outputs": [
    {
     "name": "stdout",
     "output_type": "stream",
     "text": [
      "3\n",
      "0\n",
      "3\n",
      "31\n"
     ]
    },
    {
     "data": {
      "text/plain": [
       "'31'"
      ]
     },
     "execution_count": 67,
     "metadata": {},
     "output_type": "execute_result"
    }
   ],
   "source": [
    "base_converter(25,8)"
   ]
  }
 ],
 "metadata": {
  "kernelspec": {
   "display_name": "Python 3",
   "language": "python",
   "name": "python3"
  },
  "language_info": {
   "codemirror_mode": {
    "name": "ipython",
    "version": 3
   },
   "file_extension": ".py",
   "mimetype": "text/x-python",
   "name": "python",
   "nbconvert_exporter": "python",
   "pygments_lexer": "ipython3",
   "version": "3.5.2"
  }
 },
 "nbformat": 4,
 "nbformat_minor": 2
}

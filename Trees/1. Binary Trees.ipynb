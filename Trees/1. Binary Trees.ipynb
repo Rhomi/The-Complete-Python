{
 "cells": [
  {
   "cell_type": "code",
   "execution_count": 137,
   "metadata": {
    "collapsed": true
   },
   "outputs": [],
   "source": [
    "class BinaryTree:\n",
    "    def __init__(self):\n",
    "        \"\"\"Create empty binary tree\"\"\"\n",
    "        self.root = None\n",
    "    def add(self, value):\n",
    "        \"\"\"Insert value into proper location in Binary Tree\"\"\"\n",
    "        if self.root is None:\n",
    "            self.root = BinaryNode(value)\n",
    "        else:\n",
    "            self.root.add(value)\n",
    "    def contains(self, target):\n",
    "        \"\"\"Check whether Binary Search Tree (BST) contains the target value\"\"\"\n",
    "        node = self.root\n",
    "        while node:\n",
    "            if target == node.value:\n",
    "                return True\n",
    "            if target < node.value:\n",
    "                node = node.left\n",
    "            else:\n",
    "                node = node.right\n",
    "        return False\n",
    "    def print_tree(self):\n",
    "        \n",
    "        self.node = self\n",
    "        print(self.node.root.value)\n",
    "        tree_list = [self.root.value]\n",
    "        if self.root.left:\n",
    "            tree_list.append(self.root.left.value)\n",
    "        elif self.root.right:\n",
    "            tree_list.append(self.root.right.value)\n",
    "        return(tree_list)       "
   ]
  },
  {
   "cell_type": "code",
   "execution_count": 138,
   "metadata": {
    "collapsed": false
   },
   "outputs": [],
   "source": [
    "class BinaryNode:\n",
    "    def __init__(self, value = None):\n",
    "        \"\"\"Create binary node\"\"\"\n",
    "        self.value = value\n",
    "        self.left = None\n",
    "        self.right = None  \n",
    "    def add(self, value):\n",
    "        \"\"\" Adds a new node to the tree containing a value\"\"\"\n",
    "        if value <= self.value:\n",
    "            if self.left:\n",
    "                self.left.add(value)\n",
    "            else:\n",
    "                self.left = BinaryNode(value)\n",
    "        else:\n",
    "            if self.right:\n",
    "                self.right.add(value)\n",
    "            else:\n",
    "                self.right = BinaryNode(value)"
   ]
  },
  {
   "cell_type": "code",
   "execution_count": 139,
   "metadata": {
    "collapsed": true
   },
   "outputs": [],
   "source": [
    "my_tree = BinaryTree()"
   ]
  },
  {
   "cell_type": "code",
   "execution_count": 140,
   "metadata": {
    "collapsed": true
   },
   "outputs": [],
   "source": [
    "my_tree.add(20)"
   ]
  },
  {
   "cell_type": "code",
   "execution_count": 141,
   "metadata": {
    "collapsed": true
   },
   "outputs": [],
   "source": [
    "n = 41\n",
    "for i in range(41):\n",
    "    my_tree.add(random.randint(1,41))"
   ]
  },
  {
   "cell_type": "code",
   "execution_count": 142,
   "metadata": {
    "collapsed": false
   },
   "outputs": [
    {
     "data": {
      "text/plain": [
       "False"
      ]
     },
     "execution_count": 142,
     "metadata": {},
     "output_type": "execute_result"
    }
   ],
   "source": [
    "my_tree.contains(29)"
   ]
  },
  {
   "cell_type": "code",
   "execution_count": 143,
   "metadata": {
    "collapsed": false
   },
   "outputs": [
    {
     "name": "stdout",
     "output_type": "stream",
     "text": [
      "20\n"
     ]
    },
    {
     "data": {
      "text/plain": [
       "[20, 1]"
      ]
     },
     "execution_count": 143,
     "metadata": {},
     "output_type": "execute_result"
    }
   ],
   "source": [
    "my_tree.print_tree()"
   ]
  },
  {
   "cell_type": "code",
   "execution_count": null,
   "metadata": {
    "collapsed": true
   },
   "outputs": [],
   "source": []
  },
  {
   "cell_type": "code",
   "execution_count": null,
   "metadata": {
    "collapsed": true
   },
   "outputs": [],
   "source": []
  },
  {
   "cell_type": "code",
   "execution_count": 85,
   "metadata": {
    "collapsed": true
   },
   "outputs": [],
   "source": [
    "import random\n",
    "from time import time\n",
    "def performance():\n",
    "    \"\"\"Demonstrate the performance of the BST\"\"\"\n",
    "    \n",
    "    n = 1024\n",
    "    while n <= 65536:\n",
    "        bt = BinaryTree()\n",
    "        for i in range(n):\n",
    "            bt.add(random.randint(1,n))\n",
    "        now = time()\n",
    "        print(now)\n",
    "        does_it = bt.contains(random.randint(1,n))\n",
    "        print(does_it)\n",
    "        end = time()\n",
    "        print(end)\n",
    "        print(n, (end - now))\n",
    "        n *= 2        "
   ]
  },
  {
   "cell_type": "code",
   "execution_count": 86,
   "metadata": {
    "collapsed": false
   },
   "outputs": [
    {
     "name": "stdout",
     "output_type": "stream",
     "text": [
      "1497384128.6214173\n",
      "False\n",
      "1497384128.6214173\n",
      "1024 0.0\n",
      "1497384128.6394932\n",
      "True\n",
      "1497384128.6399946\n",
      "2048 0.0005013942718505859\n",
      "1497384128.682079\n",
      "True\n",
      "1497384128.68259\n",
      "4096 0.0005109310150146484\n",
      "1497384128.7773342\n",
      "True\n",
      "1497384128.7773342\n",
      "8192 0.0\n",
      "1497384128.9914014\n",
      "True\n",
      "1497384128.9914014\n",
      "16384 0.0\n",
      "1497384129.3909652\n",
      "True\n",
      "1497384129.3909652\n",
      "32768 0.0\n",
      "1497384130.2031546\n",
      "True\n",
      "1497384130.2036579\n",
      "65536 0.0005033016204833984\n"
     ]
    }
   ],
   "source": [
    "performance()"
   ]
  },
  {
   "cell_type": "code",
   "execution_count": 59,
   "metadata": {
    "collapsed": false
   },
   "outputs": [
    {
     "name": "stdout",
     "output_type": "stream",
     "text": [
      "False\n"
     ]
    }
   ],
   "source": [
    "print(bt.contains(1024))"
   ]
  },
  {
   "cell_type": "code",
   "execution_count": 90,
   "metadata": {
    "collapsed": true
   },
   "outputs": [],
   "source": [
    "class BinaryTreeAlt:\n",
    "    def __init__(self, root):\n",
    "        self.key = root\n",
    "        self.left_child = None\n",
    "        self.right_child = None\n",
    "    def insert_left(self, new_node):\n",
    "        if self.left_child == None:\n",
    "            self.left_child = BinaryTree(new_node)\n",
    "        else:\n",
    "            t = BinaryTree(new_node)\n",
    "            t.left_child = self.left_child\n",
    "            self.left_child = t\n",
    "    def insert_right(self, new_node):\n",
    "        if self.right_child == None:\n",
    "            self.right_child = BinaryTree(new_node)\n",
    "        else:\n",
    "            t = BinaryTree(new_node)\n",
    "            t.right_child = self.right_child\n",
    "            self.right_child = t\n",
    "    def contains(self, target):\n",
    "        \"\"\"Check whether Binary Search Tree (BST) contains the target value\"\"\"\n",
    "        node = self.root\n",
    "        while node:\n",
    "            if target == node.value:\n",
    "                return True\n",
    "            if target < node.value:\n",
    "                node = node.left_child\n",
    "            else:\n",
    "                node = node.right_child\n",
    "        return False\n",
    "    def get_right_child(self):\n",
    "        return self.right_child\n",
    "    def get_left_child(self):\n",
    "        return self.left_child\n",
    "    def set_root_val(self, obj):\n",
    "        self.key = obj\n",
    "    def get_root_val(self):\n",
    "        return self.key"
   ]
  },
  {
   "cell_type": "code",
   "execution_count": 93,
   "metadata": {
    "collapsed": true
   },
   "outputs": [],
   "source": [
    "def performance():\n",
    "    \"\"\"Demonstrate the performance of the BST\"\"\"\n",
    "    \n",
    "    n = 1024\n",
    "    while n <= 65536:\n",
    "        bt = BinaryTreeAlt(32768)\n",
    "        for i in range(n):\n",
    "            bt.add(random.randint(1,n))\n",
    "        now = time()\n",
    "        print(now)\n",
    "        does_it = bt.contains(random.randint(1,n))\n",
    "        print(does_it)\n",
    "        end = time()\n",
    "        print(end)\n",
    "        print(n, (end - now))\n",
    "        n *= 2        "
   ]
  },
  {
   "cell_type": "code",
   "execution_count": 94,
   "metadata": {
    "collapsed": false
   },
   "outputs": [
    {
     "ename": "AttributeError",
     "evalue": "'BinaryTreeAlt' object has no attribute 'add'",
     "output_type": "error",
     "traceback": [
      "\u001b[0;31m---------------------------------------------------------------------------\u001b[0m",
      "\u001b[0;31mAttributeError\u001b[0m                            Traceback (most recent call last)",
      "\u001b[0;32m<ipython-input-94-0b09510acb58>\u001b[0m in \u001b[0;36m<module>\u001b[0;34m()\u001b[0m\n\u001b[0;32m----> 1\u001b[0;31m \u001b[0mperformance\u001b[0m\u001b[1;33m(\u001b[0m\u001b[1;33m)\u001b[0m\u001b[1;33m\u001b[0m\u001b[0m\n\u001b[0m",
      "\u001b[0;32m<ipython-input-93-8e9cf3a4386f>\u001b[0m in \u001b[0;36mperformance\u001b[0;34m()\u001b[0m\n\u001b[1;32m      6\u001b[0m         \u001b[0mbt\u001b[0m \u001b[1;33m=\u001b[0m \u001b[0mBinaryTreeAlt\u001b[0m\u001b[1;33m(\u001b[0m\u001b[1;36m32768\u001b[0m\u001b[1;33m)\u001b[0m\u001b[1;33m\u001b[0m\u001b[0m\n\u001b[1;32m      7\u001b[0m         \u001b[1;32mfor\u001b[0m \u001b[0mi\u001b[0m \u001b[1;32min\u001b[0m \u001b[0mrange\u001b[0m\u001b[1;33m(\u001b[0m\u001b[0mn\u001b[0m\u001b[1;33m)\u001b[0m\u001b[1;33m:\u001b[0m\u001b[1;33m\u001b[0m\u001b[0m\n\u001b[0;32m----> 8\u001b[0;31m             \u001b[0mbt\u001b[0m\u001b[1;33m.\u001b[0m\u001b[0madd\u001b[0m\u001b[1;33m(\u001b[0m\u001b[0mrandom\u001b[0m\u001b[1;33m.\u001b[0m\u001b[0mrandint\u001b[0m\u001b[1;33m(\u001b[0m\u001b[1;36m1\u001b[0m\u001b[1;33m,\u001b[0m\u001b[0mn\u001b[0m\u001b[1;33m)\u001b[0m\u001b[1;33m)\u001b[0m\u001b[1;33m\u001b[0m\u001b[0m\n\u001b[0m\u001b[1;32m      9\u001b[0m         \u001b[0mnow\u001b[0m \u001b[1;33m=\u001b[0m \u001b[0mtime\u001b[0m\u001b[1;33m(\u001b[0m\u001b[1;33m)\u001b[0m\u001b[1;33m\u001b[0m\u001b[0m\n\u001b[1;32m     10\u001b[0m         \u001b[0mprint\u001b[0m\u001b[1;33m(\u001b[0m\u001b[0mnow\u001b[0m\u001b[1;33m)\u001b[0m\u001b[1;33m\u001b[0m\u001b[0m\n",
      "\u001b[0;31mAttributeError\u001b[0m: 'BinaryTreeAlt' object has no attribute 'add'"
     ]
    }
   ],
   "source": [
    "performance()"
   ]
  },
  {
   "cell_type": "code",
   "execution_count": null,
   "metadata": {
    "collapsed": true
   },
   "outputs": [],
   "source": []
  }
 ],
 "metadata": {
  "kernelspec": {
   "display_name": "Python 3",
   "language": "python",
   "name": "python3"
  },
  "language_info": {
   "codemirror_mode": {
    "name": "ipython",
    "version": 3
   },
   "file_extension": ".py",
   "mimetype": "text/x-python",
   "name": "python",
   "nbconvert_exporter": "python",
   "pygments_lexer": "ipython3",
   "version": "3.5.2"
  }
 },
 "nbformat": 4,
 "nbformat_minor": 2
}

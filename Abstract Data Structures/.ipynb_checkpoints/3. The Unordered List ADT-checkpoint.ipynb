{
 "cells": [
  {
   "cell_type": "markdown",
   "metadata": {},
   "source": [
    "## Introduction\n",
    "\n",
    "We have used Python lists to implement the abstract data types like Stacks and Queues. The list is a powerful, yet simple, collection mechanism that provides the programmer with a wide variety of operations. However, not all programming languages include a list collection. In these cases, the notion of a list must be implemented by the programmer.\n",
    "\n",
    "A list is a collection of items where each item holds a relative position with respect to the\n",
    "others. More specifically, we will refer to this type of list as an unordered list. We can consider\n",
    "the list as having a first item, a second item, a third item, and so on. We can also refer to the\n",
    "beginning of the list (the first item) or the end of the list (the last item). For simplicity we will\n",
    "assume that lists cannot contain duplicate items.\n",
    "\n",
    "For example, the collection of integers 54, 26, 93, 17, 77, and 31 might represent a simple unordered\n",
    "list of exam scores. Note that we have written them as comma-delimited values, a common way of showing the list structure. Of course, Python would show this list as [54, 26, 93, 17, 77, 31]."
   ]
  },
  {
   "cell_type": "markdown",
   "metadata": {},
   "source": [
    "### The Unordered List\n",
    "\n",
    "The structure of an unordered list, as described above, is a collection of items where each item\n",
    "holds a relative position with respect to the others. Some possible unordered list operations are\n",
    "given below.\n",
    "\n",
    "• List() creates a new list that is empty. It needs no parameters and returns an empty list.\n",
    "\n",
    "• add(item) adds a new item to the list. It needs the item and returns nothing. Assume the\n",
    "item is not already in the list.\n",
    "\n",
    "• remove(item) removes the item from the list. It needs the item and modifies the list.\n",
    "Assume the item is present in the list.\n",
    "\n",
    "• search(item) searches for the item in the list. It needs the item and returns a boolean\n",
    "value.\n",
    "\n",
    "• is_empty() tests to see whether the list is empty. It needs no parameters and returns a\n",
    "boolean value.\n",
    "\n",
    "• size() returns the number of items in the list. It needs no parameters and returns an\n",
    "integer.\n",
    "\n",
    "• append(item) adds a new item to the end of the list making it the last item in the collection.\n",
    "It needs the item and returns nothing. Assume the item is not already in the\n",
    "list.\n",
    "\n",
    "• index(item) returns the position of item in the list. It needs the item and returns the index.\n",
    "Assume the item is in the list.\n",
    "\n",
    "• insert(pos,item) adds a new item to the list at position pos. It needs the item and returns\n",
    "nothing. Assume the item is not already in the list and there are enough existing items to\n",
    "have position pos.\n",
    "\n",
    "• pop() removes and returns the last item in the list. It needs nothing and returns an item.\n",
    "Assume the list has at least one item.\n",
    "\n",
    "• pop(pos) removes and returns the item at position pos. It needs the position and returns\n",
    "the item. Assume the item is in the list."
   ]
  },
  {
   "cell_type": "markdown",
   "metadata": {},
   "source": [
    "### Implementing an Unordered List: Linked Lists\n",
    "\n",
    "In order to implement an unordered list, we will construct what is commonly known as a linked\n",
    "list. Recall that we need to be sure that we can maintain the relative positioning of the items.\n",
    "However, there is no requirement that we maintain that positioning in contiguous memory. \n",
    "\n",
    "##### Important thing here is\n",
    "If we can maintain some explicit information in each item, namely the location of the next item, then the relative position of each item can be expressed by simply following the link from one item to the next. \n",
    "\n",
    "<b>It is important to note that the location of the first item of the list must be explicitly specified.</b>\n",
    "\n",
    "Once we know where the first item is, the first item can tell us where the second is, and so on.\n",
    "\n",
    "<i>The external reference is often referred to as the head of the list. Similarly, the last item needs\n",
    "to know that there is no next item.</i>"
   ]
  },
  {
   "cell_type": "markdown",
   "metadata": {},
   "source": [
    "### The Node Class\n",
    "The basic building block for the linked list implementation is the node. Each node object must\n",
    "hold at least two pieces of information. \n",
    "\n",
    "1. First, the node must contain the list item itself. We will call this the data field of the node. \n",
    "\n",
    "2. In addition, each node must hold a reference to the next node. \n",
    "\n",
    "To construct a node, we need to supply the initial data value for the node. "
   ]
  },
  {
   "cell_type": "code",
   "execution_count": 1,
   "metadata": {
    "collapsed": true
   },
   "outputs": [],
   "source": [
    "class Node:\n",
    "    def __init__(self, init_data):\n",
    "        self.data = init_data\n",
    "        self.next = None\n",
    "    def get_data(self):\n",
    "        return self.data\n",
    "    def get_next(self):\n",
    "        return self.next\n",
    "    def set_data(self, new_data):\n",
    "        self.data = newdata\n",
    "    def set_next(self, new_next):\n",
    "        self.next = new_next"
   ]
  },
  {
   "cell_type": "code",
   "execution_count": 2,
   "metadata": {
    "collapsed": true
   },
   "outputs": [],
   "source": [
    "# We create Node objects in the usual way.\n",
    "temp = Node(341)"
   ]
  },
  {
   "cell_type": "code",
   "execution_count": 3,
   "metadata": {
    "collapsed": false
   },
   "outputs": [
    {
     "data": {
      "text/plain": [
       "341"
      ]
     },
     "execution_count": 3,
     "metadata": {},
     "output_type": "execute_result"
    }
   ],
   "source": [
    "temp.get_data()"
   ]
  },
  {
   "cell_type": "code",
   "execution_count": 4,
   "metadata": {
    "collapsed": true
   },
   "outputs": [],
   "source": [
    "## This is a single node and there is no node connected to it.\n",
    "temp.get_next()"
   ]
  },
  {
   "cell_type": "markdown",
   "metadata": {},
   "source": [
    "#### The Reference Value \"None\"\n",
    "\n",
    "The special Python reference value None will play an important role in the Node class and\n",
    "later in the linked list itself. A reference to None will denote the fact that there is no next\n",
    "node. Note in the constructor that a node is initially created with next set to None. Since this\n",
    "is sometimes referred to as <b>“grounding the node”</b>. \n",
    "\n",
    "<b> Note: </b> It is always a good idea to explicitly assign None to your initial next reference values"
   ]
  },
  {
   "cell_type": "markdown",
   "metadata": {},
   "source": [
    "### The Implementation\n",
    "\n",
    "The unordered list will be built from a collection of nodes, each linked\n",
    "to the next by explicit references. As long as we know where to find the first node (containing\n",
    "the first item), each item after that can be found by successively following the next links. With\n",
    "this in mind, the UnorderedList class must maintain a reference to the first node."
   ]
  },
  {
   "cell_type": "code",
   "execution_count": 5,
   "metadata": {
    "collapsed": true
   },
   "outputs": [],
   "source": [
    "class UnorderedList:\n",
    "    def __init__(self):\n",
    "        self.head = None"
   ]
  },
  {
   "cell_type": "code",
   "execution_count": 6,
   "metadata": {
    "collapsed": true
   },
   "outputs": [],
   "source": [
    "mylist = UnorderedList()"
   ]
  },
  {
   "cell_type": "markdown",
   "metadata": {},
   "source": [
    "Initially when we construct a list, there are no items. The assignment statement creates the linked list. Again, the special reference \"None\" will again be used to state that the head of the list does not refer to anything.\n",
    "\n",
    "<b>The head of the list</b> refers to the first node which contains the first item\n",
    "of the list. In turn, that node holds a reference to the next node (the next item) and so on. \n",
    "\n",
    "It is very important to note that the list class itself does not contain any node objects. Instead it\n",
    "contains a single reference to only the first node in the linked structure."
   ]
  },
  {
   "cell_type": "markdown",
   "metadata": {},
   "source": [
    "### Lets Implement the Different Operations\n",
    "#### is_empty()\n",
    "\n",
    "The is_empty method simply checks to see if the head of the list is a reference to None.\n",
    "The result of the boolean expression self.head==None will only be true if there are no nodes\n",
    "in the linked list. Since a new list is empty, the constructor and the check for empty must\n",
    "be consistent with one another. This shows the advantage to using the reference None to\n",
    "denote the “end” of the linked structure. \n",
    "\n",
    "In Python, None can be compared to any reference.\n",
    "Two references are equal if they both refer to the same object. We will use this often in our\n",
    "remaining methods."
   ]
  },
  {
   "cell_type": "code",
   "execution_count": 7,
   "metadata": {
    "collapsed": true
   },
   "outputs": [],
   "source": [
    "def is_empty(self):\n",
    "    return self.head == None"
   ]
  },
  {
   "cell_type": "markdown",
   "metadata": {},
   "source": [
    "#### add()\n",
    "\n",
    "We need to implement the add method. However, before we can do that, we need to address the important question of where in the linked list to place the new item. Since this list is unordered, the specific location of the new item with respect to the other items already in the list is not important. The new item can go anywhere. With that in mind, it makes sense to place the new item in the easiest location possible.\n",
    "\n",
    "Recall that the linked list structure provides us with only one entry point, the head of the list.\n",
    "All of the other nodes can only be reached by accessing the first node and then following next\n",
    "links. This means that the easiest place to add the new node is right at the head, or beginning,\n",
    "of the list. In other words, we will make the new item the first item of the list and the existing\n",
    "items will need to be linked to this new first item so that they follow."
   ]
  },
  {
   "cell_type": "code",
   "execution_count": 8,
   "metadata": {
    "collapsed": true
   },
   "outputs": [],
   "source": [
    "def add(self, item):\n",
    "    # The add method is a method on the list. It takes in an argument \"item\" with which a new node \n",
    "    # is created as follows:\n",
    "    # Remeber that each item of the list resides in a node object. \n",
    "    # Remeber that the Constructor of Node takes in an argument which is set as the data of the node.\n",
    "    # temp holds a reference to the new node created.\n",
    "    temp = Node(item)\n",
    "    \n",
    "    \n",
    "    # Now that is done, lets move on to the next part.\n",
    "    # Recall that the linked list structure provides us with only one entry point, the head of the list.\n",
    "    # Hence any new node added to the list enters through one end of the list and becomes the new head.\n",
    "    # And this new node must now hold a reference to the old head node (the node that\n",
    "    # was he head node before this new guy came along) of the list.\n",
    "    \n",
    "    # Its very important to notice that the old head node is still the head node of the list.\n",
    "    # The temp.set_next() is merely adding a reference from the new node to the head node\n",
    "    # Recall the method in the node class\n",
    "    # def set_next(self, new_next):\n",
    "    #    self.next = new_next\n",
    "    # The next reference now points to the current head node.\n",
    "    temp.set_next(self.head)\n",
    "    \n",
    "    # Once its all said and done, set the new node as the head node. This essentially makes all\n",
    "    # other nodes, including the head node that was in place non-head nodes and are referenced \n",
    "    # by the new head node. \n",
    "    self.head = temp"
   ]
  },
  {
   "cell_type": "markdown",
   "metadata": {},
   "source": [
    "#### Absolutely Important to Understand\n",
    "The order of the two steps described above is very important. What happens if the order of line\n",
    "3 and line 4 in the code above is reversed? Since the head was the only external reference to the list nodes, all of\n",
    "the original nodes are lost and can no longer be accessed."
   ]
  },
  {
   "cell_type": "markdown",
   "metadata": {},
   "source": [
    "### Linked List Traversal\n",
    "\n",
    "The next methods that we will implement-size, search, and remove-are all based on a technique\n",
    "known as linked list traversal. Traversal refers to the process of systematically visiting each node. \n",
    "\n",
    "#### size()\n",
    "To do this we use an external reference that starts at the first node in the list. As we visit\n",
    "each node, we move the reference to the next node by “traversing” the next reference.\n",
    "\n",
    "To implement the size method, we need to traverse the linked list and keep a count of the\n",
    "number of nodes that occurred."
   ]
  },
  {
   "cell_type": "code",
   "execution_count": 9,
   "metadata": {
    "collapsed": true
   },
   "outputs": [],
   "source": [
    "def size(self):\n",
    "    # The external reference is called current and is initialized to the head of the list\n",
    "    current = self.head\n",
    "    # At the start of the process we have not seen any nodes so the count is set to 0.\n",
    "    count = 0\n",
    "    # As long as the current reference has not seen the end of the list (None), \n",
    "    # we move current along to the next node\n",
    "    # Again, the ability to compare a reference to None is turning out to be very useful here.\n",
    "    while current != None:\n",
    "        count = count + 1\n",
    "        current = current.get_next()\n",
    "    # The count variable which keeps track of the number of nodes visited will be returned at the end.\n",
    "    return count"
   ]
  },
  {
   "cell_type": "markdown",
   "metadata": {},
   "source": [
    "#### search()\n",
    "\n",
    "Searching for a value in a linked list implementation of an unordered list also uses the traversal\n",
    "technique. As we visit each node in the linked list we will ask whether the data stored there\n",
    "matches the item we are looking for. In this case, however, we may not have to traverse all the\n",
    "way to the end of the list. In fact, if we do get to the end of the list, that means that the item we\n",
    "are looking for must not be present. Also, if we do find the item, there is no need to continue.\n",
    "\n",
    "As in the size method, the traversal is initialized to start at the head of the list . We also use a boolean variable\n",
    "called found to remember whether we have located the item we are searching for. Since we\n",
    "have not found the item at the start of the traversal, found can be set to False (line 3). The\n",
    "iteration in line 4 takes into account both conditions discussed above. As long as there are\n",
    "more nodes to visit and we have not found the item we are looking for, we continue to check\n",
    "the next node. The question in line 5 asks whether the data item is present in the current node.\n",
    "If so, found can be set to True."
   ]
  },
  {
   "cell_type": "code",
   "execution_count": 10,
   "metadata": {
    "collapsed": false
   },
   "outputs": [],
   "source": [
    "def search(self, item):\n",
    "    current = self.head\n",
    "    while current != None:\n",
    "        if current.get_data() == item:\n",
    "            return True\n",
    "        else:\n",
    "            current = current.get_next()\n",
    "    return False"
   ]
  },
  {
   "cell_type": "code",
   "execution_count": 11,
   "metadata": {
    "collapsed": true
   },
   "outputs": [],
   "source": [
    "class UnorderedList:\n",
    "    def __init__(self):\n",
    "        self.head = None\n",
    "    def search(self, item):\n",
    "        current = self.head\n",
    "        while current != None:\n",
    "            print('Its visited')\n",
    "            if current.get_data() == item:\n",
    "                return True \n",
    "            else:\n",
    "                current = current.get_next()\n",
    "        return False\n",
    "    def add(self, item):\n",
    "        temp = Node(item)\n",
    "        temp.set_next(self.head)\n",
    "        self.head = temp\n",
    "    def is_empty(self):\n",
    "        return self.head == None\n",
    "    def size(self):\n",
    "        current = self.head\n",
    "        count = 0\n",
    "        while current != None:\n",
    "            count = count + 1\n",
    "            current = current.get_next()\n",
    "        return count"
   ]
  },
  {
   "cell_type": "code",
   "execution_count": 12,
   "metadata": {
    "collapsed": true
   },
   "outputs": [],
   "source": [
    "mylist = UnorderedList()"
   ]
  },
  {
   "cell_type": "code",
   "execution_count": 13,
   "metadata": {
    "collapsed": false
   },
   "outputs": [],
   "source": [
    "mylist.add(31)\n",
    "mylist.add(77)\n",
    "mylist.add(17)\n",
    "mylist.add(93)\n",
    "mylist.add(26)\n",
    "mylist.add(54)"
   ]
  },
  {
   "cell_type": "markdown",
   "metadata": {},
   "source": [
    "<b>Note : </b> Since 31 is the first item added to the list, it will eventually be the last node on the\n",
    "linked list as every other item is added ahead of it. Also, since 54 is the last item added, it will\n",
    "become the data value in the first node of the linked list."
   ]
  },
  {
   "cell_type": "markdown",
   "metadata": {},
   "source": [
    "#### remove()\n",
    "\n",
    "The remove method requires two logical steps. First, we need to traverse the list looking for the\n",
    "item we want to remove. Once we find the item (recall that we assume it is present), we must\n",
    "remove it. The first step is very similar to search. Starting with an external reference set to the\n",
    "head of the list, we traverse the links until we discover the item we are looking for. Since we\n",
    "assume that item is present, we know that the iteration will stop before current gets to None.\n",
    "When it is found, current will be a reference to the node containing the item to be\n",
    "removed. \n",
    "\n",
    "#### But how do we remove it? \n",
    "\n",
    "One possibility would be to replace the value of the item with some marker that suggests that the item is no longer present. The problem with this\n",
    "approach is the number of nodes will no longer match the number of items. \n",
    "\n",
    "\n",
    "#### The Smarter Way to do It\n",
    "It would be much better to remove the item by removing the entire node.\n",
    "In order to remove the node containing the item, we need to modify the link in the previous\n",
    "node so that it refers to the node that comes after current. \n",
    "\n",
    "\n",
    "#### The problem with that\n",
    "Unfortunately, there is no way to go backward in the linked list. Since current refers to the node ahead of the node where we would\n",
    "like to make the change, it is too late to make the necessary modification.\n",
    "\n",
    "#### Wallaaa.. The Solution\n",
    "The solution to this dilemma is to use two external references as we traverse down the linked\n",
    "list. current will behave just as it did before, marking the current location of the traverse. The\n",
    "new reference, which we will call previous, will always travel one node behind current. That\n",
    "way, when current stops at the node to be removed, previous will be referring to the proper\n",
    "place in the linked list for the modification."
   ]
  },
  {
   "cell_type": "code",
   "execution_count": 14,
   "metadata": {
    "collapsed": false
   },
   "outputs": [],
   "source": [
    "def remove(self, item):\n",
    "    # Assign initial values to the two references. \n",
    "    # Current starts out at the list head as in the other traversal examples. \n",
    "    # previous is assumed to always travel one node behind current. \n",
    "    # For this reason, previous starts out with a value of None since there is no node before the head\n",
    "    current = self.head\n",
    "    previous = None\n",
    "    # A boolean variable found will again be used to control the iteration.\n",
    "    found = False\n",
    "    while current != None and not found:\n",
    "        if current.get_data() == item:\n",
    "            # If the item is found, found can be set to True.\n",
    "            found =  True\n",
    "        else:\n",
    "            # If we do not find the item, previous and current must both be moved one node ahead.\n",
    "            # The order of these two statements is crucial.\n",
    "            # previous must first be moved one node ahead to the location of current. \n",
    "            # At that point, current can be moved. \n",
    "            # This process is often referred to as “inch-worming” as previous\n",
    "            # must catch up to current before current moves ahead.\n",
    "            previous = current\n",
    "            current = current.get_next()\n",
    "    # When the item is found, we need to be able to remove it.\n",
    "    # To do this, we need to make sure that the reference from the head never gets lost.\n",
    "    # Scenario 1: When the item is found at the head, previous will be None, because\n",
    "    # there is no item before the head and so now when the head is supposed to be removed,\n",
    "    # the second item in the list should become the next head. \n",
    "    # Hence, we assign the next reference (the second item in the list) from the current item(the head)\n",
    "    # to the head attribute of the list.\n",
    "    \n",
    "    # In short, \"the head of the list is modified to refer to the node after the current node\"\n",
    "    # and the first node of the linked list is removed.\n",
    "    if previous == None:\n",
    "        self.head = current.get_next()\n",
    "    else:\n",
    "        # Scenario 2: When the item is found somewhere else in the list (any possible location\n",
    "        # after the head item) the references have to be maintained.\n",
    "        # We take the previous item (referenced by \"previous\" -- the item before the item we\n",
    "        # are looking for), and set its \"next\" reference as the next reference of the current item\n",
    "        # (current item is the item to be removed).\n",
    "        # For example, if current item is at index 4, the previous item (at 3), is set with a\n",
    "        # next reference of the item at index 6. (The current item is at 5).\n",
    "        previous.set_next(current.get_next())\n",
    "        \n",
    "        # Note that in both cases the destination of the reference change is current.get_next()."
   ]
  },
  {
   "cell_type": "markdown",
   "metadata": {},
   "source": [
    "##### Scenario 3:\n",
    "One question that often arises is whether the two cases shown here will also handle the situation where the item to be removed is in the last node of the linked list. \n",
    "\n",
    "Lets see how that scenario will work out.\n",
    "\n",
    "1. Lets imagine a list of 10 items and after checking the item at psoition 9, and not having found the item, we increment the current to the 10th item and previous becomes the 9th item now.\n",
    "2. The while loop is entered again, and when the item is at found at 10, found is set to True. The else part doesn't get executed and therefore the increment does not happen this time.\n",
    "3. The while loop is not executed anymore. But the real problem is the else loop outside. Because, over there we try to set the previous to the next node to the current node in the list which doesn't exist because thats the end of the linked list.\n",
    "4. Hence we have to come up with a logic there that says, if the next node is not null, then set it to previous."
   ]
  },
  {
   "cell_type": "code",
   "execution_count": 15,
   "metadata": {
    "collapsed": false
   },
   "outputs": [],
   "source": [
    "def remove(self, item):\n",
    "    current = self.head\n",
    "    previous = None\n",
    "    found = False\n",
    "    while current != None and not found:\n",
    "        if current.get_data() == item:\n",
    "            found =  True\n",
    "        else:\n",
    "            previous = current\n",
    "            current = current.get_next()\n",
    "    if previous == None:\n",
    "        self.head = current.get_next()\n",
    "    else:\n",
    "        if current.get_next != None:\n",
    "            previous.set_next(current.get_next())"
   ]
  },
  {
   "cell_type": "code",
   "execution_count": 16,
   "metadata": {
    "collapsed": true
   },
   "outputs": [],
   "source": [
    "# The implementation so far.\n",
    "class UnorderedList:\n",
    "    def __init__(self):\n",
    "        self.head = None\n",
    "    def search(self, item):\n",
    "        current = self.head\n",
    "        while current != None:\n",
    "            if current.get_data() == item:\n",
    "                return True \n",
    "            else:\n",
    "                current = current.get_next()\n",
    "        return False\n",
    "    def add(self, item):\n",
    "        temp = Node(item)\n",
    "        temp.set_next(self.head)\n",
    "        self.head = temp\n",
    "    def is_empty(self):\n",
    "        return self.head == None\n",
    "    def size(self):\n",
    "        current = self.head\n",
    "        count = 0\n",
    "        while current != None:\n",
    "            count = count + 1\n",
    "            current = current.get_next()\n",
    "        return count\n",
    "    def remove(self, item):\n",
    "        current = self.head\n",
    "        previous = None\n",
    "        found = False\n",
    "        while current != None and not found:\n",
    "            if current.get_data() == item:\n",
    "                found =  True\n",
    "            else:\n",
    "                previous = current\n",
    "                current = current.get_next()\n",
    "        if previous == None:\n",
    "            self.head = current.get_next()\n",
    "        else:\n",
    "            if current.get_next != None:\n",
    "                previous.set_next(current.get_next())"
   ]
  },
  {
   "cell_type": "code",
   "execution_count": 17,
   "metadata": {
    "collapsed": true
   },
   "outputs": [],
   "source": [
    "# Lets do this all over agains.\n",
    "mylist = UnorderedList()"
   ]
  },
  {
   "cell_type": "code",
   "execution_count": 18,
   "metadata": {
    "collapsed": true
   },
   "outputs": [],
   "source": [
    "mylist.add(31)\n",
    "mylist.add(77)\n",
    "mylist.add(17)\n",
    "mylist.add(93)\n",
    "mylist.add(26)\n",
    "mylist.add(54)"
   ]
  },
  {
   "cell_type": "code",
   "execution_count": 19,
   "metadata": {
    "collapsed": false
   },
   "outputs": [
    {
     "data": {
      "text/plain": [
       "True"
      ]
     },
     "execution_count": 19,
     "metadata": {},
     "output_type": "execute_result"
    }
   ],
   "source": [
    "mylist.search(54)"
   ]
  },
  {
   "cell_type": "code",
   "execution_count": 20,
   "metadata": {
    "collapsed": false
   },
   "outputs": [],
   "source": [
    "mylist.remove(54)"
   ]
  },
  {
   "cell_type": "code",
   "execution_count": 21,
   "metadata": {
    "collapsed": false
   },
   "outputs": [
    {
     "data": {
      "text/plain": [
       "False"
      ]
     },
     "execution_count": 21,
     "metadata": {},
     "output_type": "execute_result"
    }
   ],
   "source": [
    "mylist.search(54)"
   ]
  },
  {
   "cell_type": "markdown",
   "metadata": {},
   "source": [
    "Excellent!!\n",
    "\n",
    "Our remove operation worked well. Now, we need to be able to see whats left in our list.\n",
    "\n",
    "So lets create a show() function that displays all the items in the list."
   ]
  },
  {
   "cell_type": "markdown",
   "metadata": {},
   "source": [
    "### show()\n",
    "\n",
    "We are gonna take the help of an additional linked list, that will chain together the nodes of the list we want to display."
   ]
  },
  {
   "cell_type": "code",
   "execution_count": 22,
   "metadata": {
    "collapsed": false
   },
   "outputs": [],
   "source": [
    "def show(self):\n",
    "    full_list = UnorderedList()\n",
    "    current = self.head\n",
    "    while current != None:\n",
    "        full_list.add(current.get_data())\n",
    "        current = current.get_next()\n",
    "    return full_list"
   ]
  },
  {
   "cell_type": "code",
   "execution_count": 23,
   "metadata": {
    "collapsed": true
   },
   "outputs": [],
   "source": [
    "# The implementation so far.\n",
    "class UnorderedList:\n",
    "    def __init__(self):\n",
    "        self.head = None\n",
    "    def search(self, item):\n",
    "        current = self.head\n",
    "        while current != None:\n",
    "            if current.get_data() == item:\n",
    "                return True \n",
    "            else:\n",
    "                current = current.get_next()\n",
    "        return False\n",
    "    def add(self, item):\n",
    "        temp = Node(item)\n",
    "        temp.set_next(self.head)\n",
    "        self.head = temp\n",
    "    def is_empty(self):\n",
    "        return self.head == None\n",
    "    def size(self):\n",
    "        current = self.head\n",
    "        count = 0\n",
    "        while current != None:\n",
    "            count = count + 1\n",
    "            current = current.get_next()\n",
    "        return count\n",
    "    def remove(self, item):\n",
    "        current = self.head\n",
    "        previous = None\n",
    "        found = False\n",
    "        while current != None and not found:\n",
    "            if current.get_data() == item:\n",
    "                found =  True\n",
    "            else:\n",
    "                previous = current\n",
    "                current = current.get_next()\n",
    "        if previous == None:\n",
    "            self.head = current.get_next()\n",
    "        else:\n",
    "            if current.get_next != None:\n",
    "                previous.set_next(current.get_next())\n",
    "    def show(self):\n",
    "        full_list = UnorderedList()\n",
    "        current = self.head\n",
    "        while current != None:\n",
    "            full_list.add(current.get_data())\n",
    "            current = current.get_next()\n",
    "        print(full_list.size())\n",
    "        return full_list\n",
    "    def display_vertically(self):\n",
    "        current = self.head\n",
    "        while current != None:\n",
    "            print(current.get_data())\n",
    "            current = current.get_next()"
   ]
  },
  {
   "cell_type": "code",
   "execution_count": 24,
   "metadata": {
    "collapsed": true
   },
   "outputs": [],
   "source": [
    "mylist = UnorderedList()"
   ]
  },
  {
   "cell_type": "code",
   "execution_count": 25,
   "metadata": {
    "collapsed": true
   },
   "outputs": [],
   "source": [
    "mylist.add(31)\n",
    "mylist.add(77)\n",
    "mylist.add(17)\n",
    "mylist.add(93)\n",
    "mylist.add(26)\n",
    "mylist.add(54)"
   ]
  },
  {
   "cell_type": "code",
   "execution_count": 26,
   "metadata": {
    "collapsed": false
   },
   "outputs": [
    {
     "name": "stdout",
     "output_type": "stream",
     "text": [
      "6\n"
     ]
    },
    {
     "data": {
      "text/plain": [
       "<__main__.UnorderedList at 0x216d39a64a8>"
      ]
     },
     "execution_count": 26,
     "metadata": {},
     "output_type": "execute_result"
    }
   ],
   "source": [
    "mylist.show()"
   ]
  },
  {
   "cell_type": "markdown",
   "metadata": {},
   "source": [
    "Well our show() method did not work as intened. It was stupid anyways. We are gonna have to print it \n",
    "right there. So we come up with a method called display_horizontally which outputs the values like this."
   ]
  },
  {
   "cell_type": "code",
   "execution_count": 27,
   "metadata": {
    "collapsed": false
   },
   "outputs": [
    {
     "name": "stdout",
     "output_type": "stream",
     "text": [
      "54\n",
      "26\n",
      "93\n",
      "17\n",
      "77\n",
      "31\n"
     ]
    }
   ],
   "source": [
    "mylist.display_vertically()"
   ]
  },
  {
   "cell_type": "markdown",
   "metadata": {},
   "source": [
    "Like we could see, 31 is pushed to be the last item in the list. Lets remove that and see how the list looks like after we are done with that."
   ]
  },
  {
   "cell_type": "code",
   "execution_count": 28,
   "metadata": {
    "collapsed": true
   },
   "outputs": [],
   "source": [
    "mylist.remove(31)"
   ]
  },
  {
   "cell_type": "code",
   "execution_count": 29,
   "metadata": {
    "collapsed": false
   },
   "outputs": [
    {
     "name": "stdout",
     "output_type": "stream",
     "text": [
      "54\n",
      "26\n",
      "93\n",
      "17\n",
      "77\n"
     ]
    }
   ],
   "source": [
    "mylist.display_vertically()"
   ]
  },
  {
   "cell_type": "markdown",
   "metadata": {},
   "source": [
    "### Lets implement the additional functionalities."
   ]
  },
  {
   "cell_type": "markdown",
   "metadata": {},
   "source": [
    "#### append()\n",
    "This method new nodes to the end of the list. Unlike add() where items get added to the beginning and becomes the head of the list, we add items to the end.\n",
    "Therefore new items are appened to the end of the existing list.\n",
    "\n",
    "To be able to do this, we traverse down the list and where the current.get_next() equals None, we assign the new item."
   ]
  },
  {
   "cell_type": "code",
   "execution_count": 30,
   "metadata": {
    "collapsed": true
   },
   "outputs": [],
   "source": [
    "def append(self, item):\n",
    "    current = self.head\n",
    "    previous = None\n",
    "    while current != None:\n",
    "        previous = current\n",
    "        current = current.get_next()\n",
    "    current = Node(item)\n",
    "    previous.set_next(current)"
   ]
  },
  {
   "cell_type": "code",
   "execution_count": 31,
   "metadata": {
    "collapsed": true
   },
   "outputs": [],
   "source": [
    "# The implementation so far.\n",
    "class UnorderedList:\n",
    "    def __init__(self):\n",
    "        self.head = None\n",
    "    def search(self, item):\n",
    "        current = self.head\n",
    "        while current != None:\n",
    "            if current.get_data() == item:\n",
    "                return True \n",
    "            else:\n",
    "                current = current.get_next()\n",
    "        return False\n",
    "    def add(self, item):\n",
    "        temp = Node(item)\n",
    "        temp.set_next(self.head)\n",
    "        self.head = temp\n",
    "    def is_empty(self):\n",
    "        return self.head == None\n",
    "    def size(self):\n",
    "        current = self.head\n",
    "        count = 0\n",
    "        while current != None:\n",
    "            count = count + 1\n",
    "            current = current.get_next()\n",
    "        return count\n",
    "    def remove(self, item):\n",
    "        current = self.head\n",
    "        previous = None\n",
    "        found = False\n",
    "        while current != None and not found:\n",
    "            if current.get_data() == item:\n",
    "                found =  True\n",
    "            else:\n",
    "                previous = current\n",
    "                current = current.get_next()\n",
    "        if previous == None:\n",
    "            self.head = current.get_next()\n",
    "        else:\n",
    "            if current.get_next != None:\n",
    "                previous.set_next(current.get_next())\n",
    "    def show(self):\n",
    "        full_list = UnorderedList()\n",
    "        current = self.head\n",
    "        while current != None:\n",
    "            full_list.add(current.get_data())\n",
    "            current = current.get_next()\n",
    "        print(full_list.size())\n",
    "        return full_list\n",
    "    def display_vertically(self):\n",
    "        current = self.head\n",
    "        while current != None:\n",
    "            print(current.get_data())\n",
    "            current = current.get_next()\n",
    "    def append(self, item):\n",
    "        current = self.head\n",
    "        previous = None\n",
    "        while current != None:\n",
    "            previous = current\n",
    "            current = current.get_next()\n",
    "        current = Node(item)\n",
    "        previous.set_next(current)"
   ]
  },
  {
   "cell_type": "code",
   "execution_count": 32,
   "metadata": {
    "collapsed": true
   },
   "outputs": [],
   "source": [
    "mylist = UnorderedList()"
   ]
  },
  {
   "cell_type": "code",
   "execution_count": 33,
   "metadata": {
    "collapsed": true
   },
   "outputs": [],
   "source": [
    "mylist.add(31)\n",
    "mylist.add(77)\n",
    "mylist.add(17)\n",
    "mylist.add(93)\n",
    "mylist.add(26)\n",
    "mylist.add(54)"
   ]
  },
  {
   "cell_type": "code",
   "execution_count": 34,
   "metadata": {
    "collapsed": false
   },
   "outputs": [
    {
     "name": "stdout",
     "output_type": "stream",
     "text": [
      "54\n",
      "26\n",
      "93\n",
      "17\n",
      "77\n",
      "31\n"
     ]
    }
   ],
   "source": [
    "mylist.display_vertically()"
   ]
  },
  {
   "cell_type": "code",
   "execution_count": 35,
   "metadata": {
    "collapsed": true
   },
   "outputs": [],
   "source": [
    "# Lets append an item to the list now.\n",
    "mylist.append(45)"
   ]
  },
  {
   "cell_type": "code",
   "execution_count": 36,
   "metadata": {
    "collapsed": false
   },
   "outputs": [
    {
     "name": "stdout",
     "output_type": "stream",
     "text": [
      "54\n",
      "26\n",
      "93\n",
      "17\n",
      "77\n",
      "31\n",
      "45\n"
     ]
    }
   ],
   "source": [
    "mylist.display_vertically()"
   ]
  },
  {
   "cell_type": "markdown",
   "metadata": {},
   "source": [
    "As expected, we were able to add the item to the end of the list."
   ]
  },
  {
   "cell_type": "code",
   "execution_count": 37,
   "metadata": {
    "collapsed": false
   },
   "outputs": [
    {
     "data": {
      "text/plain": [
       "True"
      ]
     },
     "execution_count": 37,
     "metadata": {},
     "output_type": "execute_result"
    }
   ],
   "source": [
    "# Lets search for 45 now\n",
    "mylist.search(45)"
   ]
  },
  {
   "cell_type": "markdown",
   "metadata": {},
   "source": [
    "That works too!!! Great, so append has been implemented.. But the drawback is that whenever a new item has to be appended, the entire list has to be traversed. While add adds the new item to the beginning and is always the best in terms of performance."
   ]
  },
  {
   "cell_type": "markdown",
   "metadata": {
    "collapsed": true
   },
   "source": [
    "### Lets add pop now\n",
    "\n",
    "#### pop()\n",
    "\n",
    "It is in many ways similar to the remove() method. The differences are:\n",
    "\n",
    "1. The item on top of the list has to be removed. In the linked list, there is only one entry point for any new node and its the head of the list.\n",
    "2. So we are going to go by the definition of stack (which also has only a single entry point) and call the head, the top of the list.\n",
    "3. To remove an item from the head, caution should be exercised that the reference from the head to the next node is preserved and not lost. Hence we use two references here.\n",
    "\n",
    "    a. A reference to the current node. Which will be the head in this case.\n",
    "    \n",
    "    b. A reference to the next node in the list and while the head node is removed, the next node is made the new head.\n",
    "    \n",
    "4. Thus we can protect the linked structure of the list\n",
    "\n"
   ]
  },
  {
   "cell_type": "code",
   "execution_count": 76,
   "metadata": {
    "collapsed": true
   },
   "outputs": [],
   "source": [
    "def pop(self):\n",
    "    current = self.head\n",
    "    while current != None:\n",
    "        # Note that the reference to the next node is only made when the current node is not None.\n",
    "        next_node = current.get_next()\n",
    "        # Once its done, break off the loop because otherwise it becomes an infinite loop.\n",
    "        break\n",
    "    # Now, make the next node the head and return the previous head which is stored in current.\n",
    "    self.head = next_node\n",
    "    return current.get_data()"
   ]
  },
  {
   "cell_type": "code",
   "execution_count": 77,
   "metadata": {
    "collapsed": false
   },
   "outputs": [],
   "source": [
    "# The implementation so far.\n",
    "class UnorderedList:\n",
    "    def __init__(self):\n",
    "        self.head = None\n",
    "    def search(self, item):\n",
    "        current = self.head\n",
    "        while current != None:\n",
    "            if current.get_data() == item:\n",
    "                return True \n",
    "            else:\n",
    "                current = current.get_next()\n",
    "        return False\n",
    "    def add(self, item):\n",
    "        temp = Node(item)\n",
    "        temp.set_next(self.head)\n",
    "        self.head = temp\n",
    "    def is_empty(self):\n",
    "        return self.head == None\n",
    "    def size(self):\n",
    "        current = self.head\n",
    "        count = 0\n",
    "        while current != None:\n",
    "            count = count + 1\n",
    "            current = current.get_next()\n",
    "        return count\n",
    "    def remove(self, item):\n",
    "        current = self.head\n",
    "        previous = None\n",
    "        found = False\n",
    "        while current != None and not found:\n",
    "            if current.get_data() == item:\n",
    "                found =  True\n",
    "            else:\n",
    "                previous = current\n",
    "                current = current.get_next()\n",
    "        if previous == None:\n",
    "            self.head = current.get_next()\n",
    "        else:\n",
    "            if current.get_next != None:\n",
    "                previous.set_next(current.get_next())\n",
    "    def show(self):\n",
    "        full_list = UnorderedList()\n",
    "        current = self.head\n",
    "        while current != None:\n",
    "            full_list.add(current.get_data())\n",
    "            current = current.get_next()\n",
    "        print(full_list.size())\n",
    "        return full_list\n",
    "    def display_vertically(self):\n",
    "        current = self.head\n",
    "        while current != None:\n",
    "            print(current.get_data())\n",
    "            current = current.get_next()\n",
    "    def append(self, item):\n",
    "        current = self.head\n",
    "        previous = None\n",
    "        while current != None:\n",
    "            previous = current\n",
    "            current = current.get_next()\n",
    "        current = Node(item)\n",
    "        previous.set_next(current)\n",
    "    def pop(self):\n",
    "        current = self.head\n",
    "        while current != None:\n",
    "            next_node = current.get_next()\n",
    "            break\n",
    "        self.head = next_node\n",
    "        return current.get_data()"
   ]
  },
  {
   "cell_type": "code",
   "execution_count": 78,
   "metadata": {
    "collapsed": true
   },
   "outputs": [],
   "source": [
    "mylist = UnorderedList()"
   ]
  },
  {
   "cell_type": "code",
   "execution_count": 79,
   "metadata": {
    "collapsed": true
   },
   "outputs": [],
   "source": [
    "mylist.add(31)\n",
    "mylist.add(77)\n",
    "mylist.add(17)\n",
    "mylist.add(93)\n",
    "mylist.add(26)\n",
    "mylist.add(54)"
   ]
  },
  {
   "cell_type": "code",
   "execution_count": 80,
   "metadata": {
    "collapsed": false
   },
   "outputs": [
    {
     "name": "stdout",
     "output_type": "stream",
     "text": [
      "54\n",
      "26\n",
      "93\n",
      "17\n",
      "77\n",
      "31\n"
     ]
    }
   ],
   "source": [
    "mylist.display_vertically()"
   ]
  },
  {
   "cell_type": "code",
   "execution_count": 81,
   "metadata": {
    "collapsed": false
   },
   "outputs": [
    {
     "data": {
      "text/plain": [
       "54"
      ]
     },
     "execution_count": 81,
     "metadata": {},
     "output_type": "execute_result"
    }
   ],
   "source": [
    "mylist.pop()"
   ]
  },
  {
   "cell_type": "code",
   "execution_count": 82,
   "metadata": {
    "collapsed": false
   },
   "outputs": [
    {
     "name": "stdout",
     "output_type": "stream",
     "text": [
      "26\n",
      "93\n",
      "17\n",
      "77\n",
      "31\n"
     ]
    }
   ],
   "source": [
    "mylist.display_vertically()"
   ]
  },
  {
   "cell_type": "markdown",
   "metadata": {},
   "source": [
    "#### That worked great too..\n",
    "\n",
    "The only things that are left for us to do is indexing and inserting. We need to name the positions. We usually choose integers called indices (plural) or index(singular) to refer to each unique position in the list. It starts from 0 and 0 points to the head of the list. It's regular programming convention to start from 0 and not 1.\n",
    "\n",
    "#### Adding Index\n",
    "\n",
    "To be able to add indexes, it is imperative that we alter the definition of the node object. We need to add an additional attribute to the node class called position or index or any word of our choice as long as it is descriptive.\n",
    "\n",
    "Once, that is done, we will have to make some changes to the existing implementation of append() and add perhaps new methods to get an item at an index position to add more functionalities to our linked list.\n",
    "\n",
    "Let's get started with that.\n",
    "#### Step 1: Change Node definition:\n",
    "\n",
    "The constructor takes in an additional argument that we will call index. The problem with this change is that it could change the way our UnorderedList will be constructed because every time a new node has to be added now, we will have to pass an additional parameter for the index attribute.\n",
    "\n",
    "To keep the existing implementation intact and keep away from disturbing as much as we can, we could do a couple of things.\n",
    "\n",
    "1. The add method will always add items from one end of the list (to the head), whose position is always 0.\n",
    "\n",
    "2. Therefore we set the parameter passed to a default value of zero. This will save us from keeping track of the index number to be supplied as part of adding new nodes and make the implementation more  robust."
   ]
  },
  {
   "cell_type": "code",
   "execution_count": 84,
   "metadata": {
    "collapsed": true
   },
   "outputs": [],
   "source": [
    "class Node:\n",
    "    def __init__(self, init_data, index = 0):\n",
    "        self.data = init_data\n",
    "        self.next = None\n",
    "        # Unless index value is explicitly mentioned, the default value '0' will be set as the index value.\n",
    "        self.index = index\n",
    "    def get_data(self):\n",
    "        return self.data\n",
    "    def get_next(self):\n",
    "        return self.next\n",
    "    def set_data(self, new_data):\n",
    "        self.data = newdata\n",
    "    def set_next(self, new_next):\n",
    "        self.next = new_next"
   ]
  },
  {
   "cell_type": "markdown",
   "metadata": {},
   "source": [
    "Excellent!! That will fix the problem of adding index to the new nodes added. But it inturn creates a new problem elsewhere.\n",
    "\n",
    "The existing indexes are going to be affected as a result of this. \n",
    "\n",
    "For example, when the first item is added, it gets an index 0 and now when the next item is added, it is gonna replace the first item and take the position of the head and also get an index value of '0'.\n",
    "\n",
    "Now, we have two items in the same list with the index value '0' which seriously impacts our whole intention behind indexing.\n",
    "\n",
    "Hence we need a mechanism to automatically update the index of the nodes in the list whenever a new node is added. We'll call this the index_update() method and all it does is traversing the list and incrementing the index value by 1 every time a new item is added.\n",
    "\n",
    "This also calls for a set index method on our Nodes just like the set_data() and set_next() methods.\n",
    "And also, a get_index() method to get the index value."
   ]
  },
  {
   "cell_type": "code",
   "execution_count": 92,
   "metadata": {
    "collapsed": true
   },
   "outputs": [],
   "source": [
    "class Node:\n",
    "    def __init__(self, init_data, index = 0):\n",
    "        self.data = init_data\n",
    "        self.next = None\n",
    "        # Unless index value is explicitly mentioned, the default value '0' will be set as the index value.\n",
    "        self.index = index\n",
    "    def get_data(self):\n",
    "        return self.data\n",
    "    def get_next(self):\n",
    "        return self.next\n",
    "    def set_data(self, new_data):\n",
    "        self.data = newdata\n",
    "    def set_next(self, new_next):\n",
    "        self.next = new_next\n",
    "    def set_index(self, index):\n",
    "        self.index = index\n",
    "    def get_index(self):\n",
    "        return self.index"
   ]
  },
  {
   "cell_type": "code",
   "execution_count": 131,
   "metadata": {
    "collapsed": true
   },
   "outputs": [],
   "source": [
    "def index_update(self):\n",
    "        current = self.head\n",
    "        index = 0\n",
    "        # When the last item is reached, current.get_next() will return a None and hence \n",
    "        # the while loop will not be satisfied in that iteration and hence the execution breaks smoothly\n",
    "        while current != None:\n",
    "            current.set_index(index)\n",
    "            index += 1\n",
    "            current = current.get_next()"
   ]
  },
  {
   "cell_type": "markdown",
   "metadata": {},
   "source": [
    "This method has to be called whenever a new item is added using the add method now."
   ]
  },
  {
   "cell_type": "code",
   "execution_count": 138,
   "metadata": {
    "collapsed": true
   },
   "outputs": [],
   "source": [
    "# The implementation so far.\n",
    "class UnorderedList:\n",
    "    def __init__(self):\n",
    "        self.head = None\n",
    "    def search(self, item):\n",
    "        current = self.head\n",
    "        while current != None:\n",
    "            if current.get_data() == item:\n",
    "                return True \n",
    "            else:\n",
    "                current = current.get_next()\n",
    "        return False\n",
    "    def add(self, item):\n",
    "        temp = Node(item)\n",
    "        temp.set_next(self.head)\n",
    "        self.head = temp\n",
    "        self.index_update()\n",
    "    def is_empty(self):\n",
    "        return self.head == None\n",
    "    def size(self):\n",
    "        current = self.head\n",
    "        count = 0\n",
    "        while current != None:\n",
    "            count = count + 1\n",
    "            current = current.get_next()\n",
    "        return count\n",
    "    def remove(self, item):\n",
    "        current = self.head\n",
    "        previous = None\n",
    "        found = False\n",
    "        while current != None and not found:\n",
    "            if current.get_data() == item:\n",
    "                found =  True\n",
    "            else:\n",
    "                previous = current\n",
    "                current = current.get_next()\n",
    "        if previous == None:\n",
    "            self.head = current.get_next()\n",
    "        else:\n",
    "            if current.get_next != None:\n",
    "                previous.set_next(current.get_next())\n",
    "    def show(self):\n",
    "        full_list = UnorderedList()\n",
    "        current = self.head\n",
    "        while current != None:\n",
    "            full_list.add(current.get_data())\n",
    "            current = current.get_next()\n",
    "        print(full_list.size())\n",
    "        return full_list\n",
    "    def display_vertically(self):\n",
    "        current = self.head\n",
    "        while current != None:\n",
    "            print(current.get_data())\n",
    "            print(current.get_index())\n",
    "            current = current.get_next()\n",
    "    def append(self, item):\n",
    "        current = self.head\n",
    "        previous = None\n",
    "        while current != None:\n",
    "            previous = current\n",
    "            current = current.get_next()\n",
    "        current = Node(item)\n",
    "        previous.set_next(current)\n",
    "    def pop(self):\n",
    "        current = self.head\n",
    "        while current != None:\n",
    "            next_node = current.get_next()\n",
    "            break\n",
    "        self.head = next_node\n",
    "        return current.get_data()\n",
    "    def index_update(self):\n",
    "        current = self.head\n",
    "        index = 0\n",
    "        while current != None:\n",
    "            current.set_index(index)\n",
    "            index += 1\n",
    "            current = current.get_next()"
   ]
  },
  {
   "cell_type": "code",
   "execution_count": 139,
   "metadata": {
    "collapsed": true
   },
   "outputs": [],
   "source": [
    "mylist = UnorderedList()"
   ]
  },
  {
   "cell_type": "code",
   "execution_count": 140,
   "metadata": {
    "collapsed": false
   },
   "outputs": [],
   "source": [
    "mylist.add(31)\n",
    "mylist.add(77)\n",
    "mylist.add(17)\n",
    "mylist.add(93)\n",
    "mylist.add(26)\n",
    "mylist.add(54)"
   ]
  },
  {
   "cell_type": "markdown",
   "metadata": {},
   "source": [
    "### Testing Index\n",
    "\n",
    "Lets add another statement to the diplay_vertically() method to print the index value along with the data on the nodes."
   ]
  },
  {
   "cell_type": "code",
   "execution_count": 141,
   "metadata": {
    "collapsed": false
   },
   "outputs": [
    {
     "name": "stdout",
     "output_type": "stream",
     "text": [
      "54\n",
      "0\n",
      "26\n",
      "1\n",
      "93\n",
      "2\n",
      "17\n",
      "3\n",
      "77\n",
      "4\n",
      "31\n",
      "5\n"
     ]
    }
   ],
   "source": [
    "mylist.display_vertically()"
   ]
  },
  {
   "cell_type": "markdown",
   "metadata": {},
   "source": [
    "#### insert()\n",
    "\n",
    "Now that we have been able to implement indices, lets go ahead and implement insert where we have the freedom to add items to any specific positions along the list using the index sttribute.\n",
    "\n",
    "It will more or less be like the remove() method where we search for the item of our choice and link the previous and the next node of the node of interest before we delete the current node.\n",
    "\n",
    "Here, we have one additional thing to do.\n",
    "\n",
    "1. Find the appropriate position along the list.\n",
    "2. Create a reference from the current node (node to be added) to the node that is supposed to be moved towards the right (imagining traversal works from the left of the list with the head at the start).\n",
    "3. All the while, we will have a tail reference (the previous node of the current node) kept track of.\n",
    "4. Once the node is inserted in the desired position, we create a reference from the tail node to the current node.\n",
    "\n",
    "<b>Note :</b> Only an index item can be replaced.\n"
   ]
  },
  {
   "cell_type": "code",
   "execution_count": null,
   "metadata": {
    "collapsed": true
   },
   "outputs": [],
   "source": [
    "insert(self, item, index):\n",
    "    current = self.head\n",
    "    previous = None\n",
    "    found = False\n",
    "    while current != None and not found:\n",
    "        if current.get_index() == index:\n",
    "            found = True\n",
    "        else:\n",
    "            previous = current\n",
    "            current = current.get_next()\n",
    "\n",
    "    current = Node(item)\n",
    "    previous.set_next(current)\n",
    "    "
   ]
  },
  {
   "cell_type": "code",
   "execution_count": null,
   "metadata": {
    "collapsed": true
   },
   "outputs": [],
   "source": []
  },
  {
   "cell_type": "code",
   "execution_count": null,
   "metadata": {
    "collapsed": true
   },
   "outputs": [],
   "source": []
  }
 ],
 "metadata": {
  "kernelspec": {
   "display_name": "Python 3",
   "language": "python",
   "name": "python3"
  },
  "language_info": {
   "codemirror_mode": {
    "name": "ipython",
    "version": 3
   },
   "file_extension": ".py",
   "mimetype": "text/x-python",
   "name": "python",
   "nbconvert_exporter": "python",
   "pygments_lexer": "ipython3",
   "version": "3.5.2"
  }
 },
 "nbformat": 4,
 "nbformat_minor": 2
}

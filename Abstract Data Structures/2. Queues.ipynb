{
 "cells": [
  {
   "cell_type": "markdown",
   "metadata": {},
   "source": [
    "## Introduction\n",
    "Another very importatn linear data structure is \"queue\". Like\n",
    "stacks, queues are relatively simple and yet can be used to solve a wide range of important\n",
    "problems."
   ]
  },
  {
   "cell_type": "markdown",
   "metadata": {},
   "source": [
    "A queue is an ordered collection of items where the addition of new items happens at one end,\n",
    "called the “rear,” and the removal of existing items occurs at the other end, commonly called\n",
    "the “front.” \n",
    "\n",
    "As an element enters the queue it starts at the rear and makes its way toward the\n",
    "front, waiting until that time when it is the next element to be removed.\n",
    "The most recently added item in the queue must wait at the end of the collection. The item that\n",
    "has been in the collection the longest is at the front. This ordering principle is sometimes called\n",
    "FIFO, first-in first-out. It is also known as “first-come first-served.”\n",
    "\n",
    "\n",
    "The simplest example of a queue is the typical line that we all participate in from time to time.\n",
    "We wait in a line for a movie, we wait in the check-out line at a grocery store, and we wait in\n",
    "the cafeteria line (so that we can pop the tray stack). Well-behaved lines, or queues, are very\n",
    "restrictive in that they have only one way in and only one way out. There is no jumping in the\n",
    "middle and no leaving before you have waited the necessary amount of time to get to the front.\n",
    "\n",
    "Computer science also has common examples of queues. in the computer laboratory when students want to print, their print tasks “get in line” with all the other printing tasks that are waiting. The first task in is the next to be completed. If you are last in line, you must wait for all the other tasks to print ahead of you.\n",
    "\n",
    "In addition to printing queues, operating systems use a number of different queues to control\n",
    "processes within a computer. The scheduling of what gets done next is typically based on\n",
    "a queuing algorithm that tries to execute programs as quickly as possible and serve as many\n",
    "users as it can. Also, as we type, sometimes keystrokes get ahead of the characters that appear\n",
    "on the screen. This is due to the computer doing other work at that moment. The keystrokes\n",
    "are being placed in a queue-like buffer so that they can eventually be displayed on the screen\n",
    "in the proper order."
   ]
  },
  {
   "cell_type": "markdown",
   "metadata": {},
   "source": [
    "## The Queue Abstract Data Type\n",
    "The queue abstract data type is defined by the following structure and operations. A queue is\n",
    "structured, as described above, as an ordered collection of items which are added at one end,\n",
    "called the “rear,” and removed from the other end, called the “front.” Queues maintain a FIFO\n",
    "ordering property. The queue operations are given below.\n",
    "\n",
    "• Queue() creates a new queue that is empty. It needs no parameters and returns an empty\n",
    "queue.\n",
    "\n",
    "• enqueue(item) adds a new item to the rear of the queue. It needs the item and returns\n",
    "nothing.\n",
    "\n",
    "• dequeue() removes the front item from the queue. It needs no parameters and returns the\n",
    "item. The queue is modified.\n",
    "\n",
    "• is_empty() tests to see whether the queue is empty. It needs no parameters and returns a\n",
    "boolean value.\n",
    "\n",
    "• size() returns the number of items in the queue. It needs no parameters and returns an\n",
    "integer."
   ]
  },
  {
   "cell_type": "markdown",
   "metadata": {},
   "source": [
    "## Implementing A Queue in Python\n",
    "We create a new class for the implementation of the abstract data type\n",
    "queue. As before (with the stacks), we will use the power and simplicity of the list collection to build the\n",
    "internal representation of the queue.\n",
    "\n",
    "We need to decide which end of the list to use as the rear and which to use as the front. The\n",
    "implementation shown below assumes that the rear is at position 0 in the list. This allows us to\n",
    "use the insert function on lists to add new elements to the rear of the queue. \n",
    "\n",
    "The Pop operation can be used to remove the front element (the last element of the list)."
   ]
  },
  {
   "cell_type": "code",
   "execution_count": 3,
   "metadata": {
    "collapsed": false
   },
   "outputs": [],
   "source": [
    "# Completed implementation of a queue ADT\n",
    "class Queue:\n",
    "    def __init__(self):\n",
    "        self.items = []\n",
    "    def is_empty(self):\n",
    "        return self.items == []\n",
    "    def enqueue(self, item):\n",
    "        self.items.insert(0,item)\n",
    "    def dequeue(self):\n",
    "        return self.items.pop()\n",
    "    def size(self):\n",
    "        return len(self.items)\n",
    "    def show(self):\n",
    "        return self.items"
   ]
  },
  {
   "cell_type": "code",
   "execution_count": 4,
   "metadata": {
    "collapsed": false
   },
   "outputs": [
    {
     "data": {
      "text/plain": [
       "'hello'"
      ]
     },
     "execution_count": 4,
     "metadata": {},
     "output_type": "execute_result"
    }
   ],
   "source": [
    "q = Queue()\n",
    "q.enqueue('hello')\n",
    "q.enqueue('dog')\n",
    "q.enqueue(3)\n",
    "q.dequeue()"
   ]
  },
  {
   "cell_type": "code",
   "execution_count": 5,
   "metadata": {
    "collapsed": false
   },
   "outputs": [
    {
     "data": {
      "text/plain": [
       "[3, 'dog']"
      ]
     },
     "execution_count": 5,
     "metadata": {},
     "output_type": "execute_result"
    }
   ],
   "source": [
    "q.show()"
   ]
  },
  {
   "cell_type": "code",
   "execution_count": 6,
   "metadata": {
    "collapsed": false
   },
   "outputs": [
    {
     "data": {
      "text/plain": [
       "2"
      ]
     },
     "execution_count": 6,
     "metadata": {},
     "output_type": "execute_result"
    }
   ],
   "source": [
    "q.size()"
   ]
  },
  {
   "cell_type": "code",
   "execution_count": 7,
   "metadata": {
    "collapsed": false
   },
   "outputs": [
    {
     "data": {
      "text/plain": [
       "False"
      ]
     },
     "execution_count": 7,
     "metadata": {},
     "output_type": "execute_result"
    }
   ],
   "source": [
    "q.is_empty()"
   ]
  },
  {
   "cell_type": "markdown",
   "metadata": {},
   "source": [
    "## Simulation of Queues\n",
    "One of the typical applications for showing a queue in action is to simulate a real situation that\n",
    "requires data to be managed in a FIFO manner. To begin, let’s consider the children’s game\n",
    "Hot Potato. In this game, children line up in a circle and pass an item from\n",
    "neighbour to neighbour as fast as they can. At a certain point in the game, the action is stopped\n",
    "and the child who has the item (the potato) is removed from the circle. Play continues until\n",
    "only one child is left.\n",
    "\n",
    "We will implement a general simulation of Hot Potato. Our program will input a list of names\n",
    "and a constant, call it “num” to be used for counting. It will return the name of the last person\n",
    "remaining after repetitive counting by num. What happens at that point (after getting this name) is up to us.\n",
    "\n",
    "To simulate the circle, we will use a queue."
   ]
  },
  {
   "cell_type": "code",
   "execution_count": 8,
   "metadata": {
    "collapsed": false
   },
   "outputs": [],
   "source": [
    "def hot_potato(name_list, num):\n",
    "    simple_queue = Queue()\n",
    "    for name in name_list:\n",
    "        simple_queue.enqueue(name)\n",
    "    while simple_queue.size() > 1:\n",
    "        for i in range(num):\n",
    "            # Dequeue the oldest element in the queue and add it to the read end.\n",
    "            simple_queue.enqueue(simple_queue.dequeue())\n",
    "            print(simple_queue.show())\n",
    "        simple_queue.dequeue()\n",
    "    return simple_queue.dequeue()"
   ]
  },
  {
   "cell_type": "code",
   "execution_count": 9,
   "metadata": {
    "collapsed": false
   },
   "outputs": [
    {
     "name": "stdout",
     "output_type": "stream",
     "text": [
      "['Bill', 'Brad', 'Kent', 'Jane', 'Susan', 'David']\n",
      "['David', 'Bill', 'Brad', 'Kent', 'Jane', 'Susan']\n",
      "['Susan', 'David', 'Bill', 'Brad', 'Kent', 'Jane']\n",
      "['Kent', 'Susan', 'David', 'Bill', 'Brad']\n",
      "['Brad', 'Kent', 'Susan', 'David', 'Bill']\n",
      "['Bill', 'Brad', 'Kent', 'Susan', 'David']\n",
      "['Susan', 'Bill', 'Brad', 'Kent']\n",
      "['Kent', 'Susan', 'Bill', 'Brad']\n",
      "['Brad', 'Kent', 'Susan', 'Bill']\n",
      "['Susan', 'Brad', 'Kent']\n",
      "['Kent', 'Susan', 'Brad']\n",
      "['Brad', 'Kent', 'Susan']\n",
      "['Kent', 'Brad']\n",
      "['Brad', 'Kent']\n",
      "['Kent', 'Brad']\n",
      "Kent\n"
     ]
    }
   ],
   "source": [
    "print(hot_potato([\"Bill\", \"David\", \"Susan\", \"Jane\", \"Kent\", \"Brad\"], 3))"
   ]
  },
  {
   "cell_type": "markdown",
   "metadata": {
    "collapsed": true
   },
   "source": [
    "Note that in this example the value of the counting constant is greater than the number of names\n",
    "in the list. This is not a problem since the queue acts like a circle and counting continues back at\n",
    "the beginning until the value is reached. Also, notice that the list is loaded into the queue such\n",
    "that the first name on the list will be at the front of the queue. Bill in this case is the first item\n",
    "in the list and therefore moves to the front of the queue. A variation of this implementation,\n",
    "described in the exercises, allows for a random counter."
   ]
  },
  {
   "cell_type": "code",
   "execution_count": null,
   "metadata": {
    "collapsed": true
   },
   "outputs": [],
   "source": []
  },
  {
   "cell_type": "code",
   "execution_count": null,
   "metadata": {
    "collapsed": true
   },
   "outputs": [],
   "source": []
  },
  {
   "cell_type": "code",
   "execution_count": null,
   "metadata": {
    "collapsed": true
   },
   "outputs": [],
   "source": []
  }
 ],
 "metadata": {
  "kernelspec": {
   "display_name": "Python 3",
   "language": "python",
   "name": "python3"
  },
  "language_info": {
   "codemirror_mode": {
    "name": "ipython",
    "version": 3
   },
   "file_extension": ".py",
   "mimetype": "text/x-python",
   "name": "python",
   "nbconvert_exporter": "python",
   "pygments_lexer": "ipython3",
   "version": "3.5.2"
  }
 },
 "nbformat": 4,
 "nbformat_minor": 2
}

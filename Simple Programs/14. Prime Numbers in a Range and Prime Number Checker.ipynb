{
 "cells": [
  {
   "cell_type": "code",
   "execution_count": 16,
   "metadata": {
    "collapsed": false
   },
   "outputs": [],
   "source": [
    "# Python program to check if the input number is prime or not\n",
    "\n",
    "def prime_number_checker(num):\n",
    "    # prime numbers are greater than 1 and 1 is not a prime number\n",
    "    if num > 1:\n",
    "        # check for factors\n",
    "        for i in range(2,num):\n",
    "            if (num % i) == 0:\n",
    "                print(\"{} is not a prime number\".format(num))\n",
    "                print(\"{} x {} equals {}\".format(i,num//i,num))\n",
    "                break\n",
    "        else:\n",
    "            print(\"{} is a prime number\".format(num))\n",
    "    # if input number is less than or equal to 1, it is not prime\n",
    "    else:\n",
    "        print(\"{} is not a prime number\".format(num))"
   ]
  },
  {
   "cell_type": "code",
   "execution_count": 17,
   "metadata": {
    "collapsed": false
   },
   "outputs": [
    {
     "name": "stdout",
     "output_type": "stream",
     "text": [
      "Enter a number: 407\n",
      "407 is not a prime number\n",
      "11 x 37 equals 407\n"
     ]
    }
   ],
   "source": [
    "num = int(input(\"Enter a number: \"))\n",
    "prime_number_checker(num)"
   ]
  },
  {
   "cell_type": "code",
   "execution_count": 58,
   "metadata": {
    "collapsed": false
   },
   "outputs": [],
   "source": [
    "# Python program to print all prime numbers within a range (inclusive of the upper and lower limits)\n",
    "\n",
    "def prime_between_range(lower, upper):\n",
    "    print(\"Prime numbers between\",lower,\"and\",upper,\"are:\")\n",
    "\n",
    "    for num in range(lower,upper + 1):\n",
    "        # prime numbers are greater than 1\n",
    "        if num > 1:\n",
    "            for i in range(2,num):\n",
    "                if (num % i) == 0:\n",
    "                    break\n",
    "            else:\n",
    "                print(num)"
   ]
  },
  {
   "cell_type": "code",
   "execution_count": 60,
   "metadata": {
    "collapsed": false
   },
   "outputs": [
    {
     "name": "stdout",
     "output_type": "stream",
     "text": [
      "Prime numbers between 1 and 11 are:\n",
      "2\n",
      "3\n",
      "5\n",
      "7\n",
      "11\n"
     ]
    }
   ],
   "source": [
    "prime_between_range(1,11)"
   ]
  },
  {
   "cell_type": "code",
   "execution_count": null,
   "metadata": {
    "collapsed": true
   },
   "outputs": [],
   "source": []
  },
  {
   "cell_type": "code",
   "execution_count": null,
   "metadata": {
    "collapsed": true
   },
   "outputs": [],
   "source": []
  }
 ],
 "metadata": {
  "kernelspec": {
   "display_name": "Python 3",
   "language": "python",
   "name": "python3"
  },
  "language_info": {
   "codemirror_mode": {
    "name": "ipython",
    "version": 3
   },
   "file_extension": ".py",
   "mimetype": "text/x-python",
   "name": "python",
   "nbconvert_exporter": "python",
   "pygments_lexer": "ipython3",
   "version": "3.5.2"
  }
 },
 "nbformat": 4,
 "nbformat_minor": 2
}

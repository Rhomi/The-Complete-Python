{
 "cells": [
  {
   "cell_type": "markdown",
   "metadata": {},
   "source": [
    "#### The standard form of a quadratic equation is:\n",
    "\n",
    "ax2 + bx + c = 0, where\n",
    "a, b and c are real numbers and\n",
    "a ≠ 0\n",
    "\n",
    "More explanation from Wikipedia --\n",
    "\n",
    "<i>where x represents an unknown, and a, b, and c represent known numbers such that a is not equal to 0. If a = 0, then the equation is linear, not quadratic. The numbers a, b, and c are the coefficients of the equation, and may be distinguished by calling them, respectively, the quadratic coefficient, the linear coefficient and the constant or free term.</i>"
   ]
  },
  {
   "cell_type": "markdown",
   "metadata": {},
   "source": [
    "A quadratic equation with real or complex coefficients has two solutions, called roots. These two solutions may or may not be distinct, and they may or may not be real.\n",
    "\n",
    "The roots are found out as follows:\n",
    "\n",
    "root1:\n",
    "x1 = (-b + sqrt(D))/2a\n",
    "\n",
    "root2:\n",
    "x2 = (-b - sqrt(D))/2a\n",
    "\n",
    "where Discriminant (D) = b2(b-squared) - 4ac \n",
    "\n",
    "and sqrt represents square root."
   ]
  },
  {
   "cell_type": "markdown",
   "metadata": {},
   "source": [
    "#### Discriminant\n",
    "In the quadratic formula, the expression underneath the square root sign is called the discriminant of the quadratic equation, and is often represented using an upper case D or an upper case Greek delta"
   ]
  },
  {
   "cell_type": "code",
   "execution_count": 5,
   "metadata": {
    "collapsed": false
   },
   "outputs": [],
   "source": [
    "def solve_quadratic_eqation(a,b,c):\n",
    "    # calculate the discriminant\n",
    "    d = (b**2) - (4*a*c)\n",
    "    \n",
    "    # calculate the roots\n",
    "    x1 = (-b+(d**0.5))/(2*a)\n",
    "    x2 = (-b-(d**0.5))/(2*a)\n",
    "    \n",
    "    print('The roots of the quadratic equation are : {} and {}'.format(x1,x2))"
   ]
  },
  {
   "cell_type": "code",
   "execution_count": 9,
   "metadata": {
    "collapsed": false
   },
   "outputs": [
    {
     "name": "stdout",
     "output_type": "stream",
     "text": [
      "The roots of the quadratic equation are : -2.0 and -3.0\n"
     ]
    }
   ],
   "source": [
    "a = 1\n",
    "b = 5\n",
    "c = 6\n",
    "solve_quadratic_eqation(a,b,c)"
   ]
  },
  {
   "cell_type": "markdown",
   "metadata": {},
   "source": [
    "### Looks like something is missing in here!!!!!\n",
    "\n",
    "Remember that we read, solutions to quadratic equations may or may not be distinct, and they may or may not be real..\n",
    "\n",
    "And a quadratic equation may or may not be compose of real or complex coffecients.\n",
    "\n",
    "Therefore, we need to implement a complete solution to our problem and that requires understanding the problem first!!\n",
    "\n",
    "We need to understand how the nature of the roots vary as a result of different kinds of Discriminants."
   ]
  },
  {
   "cell_type": "markdown",
   "metadata": {},
   "source": [
    "### Different types of discriminants and different consequential solutions\n",
    "\n",
    "Positive and a not a perfect square - Two Real Irrational Solutions.\n",
    "\n",
    "Discriminant is Zero - One Real Solution.\n",
    "\n",
    "Negative Discriminant - No Real Solutions Two Imaginary Solutions."
   ]
  },
  {
   "cell_type": "markdown",
   "metadata": {},
   "source": [
    "#### What the hell are rational and irrational numbers??\n",
    "\n",
    "Check out this link -- https://www.factmonster.com/math/numbers/rational-and-irrational-numbers"
   ]
  },
  {
   "cell_type": "markdown",
   "metadata": {},
   "source": [
    "#### Lets implement the complete solution.\n",
    "\n",
    "After appreciating the math behind this, we have realized that the roots of the solution must also print \n",
    "out the imaginary part if they are complex numbers and not a single digit real number.\n",
    "\n",
    "We could use the cmath module in Python to achieve this.\n",
    "\n",
    "A little not on cmath: \n",
    "\n",
    "<i>This module is always available. It provides access to mathematical functions for complex numbers. The functions in this module accept integers, floating-point numbers or complex numbers as arguments. </i>"
   ]
  },
  {
   "cell_type": "code",
   "execution_count": 26,
   "metadata": {
    "collapsed": true
   },
   "outputs": [],
   "source": [
    "# We are gonna call this function the same name, but the implementation is gonna be a lil different.\n",
    "import cmath\n",
    "def solve_quadratic_eqation(a,b,c):\n",
    "    # calculate the discriminant\n",
    "    d = (b**2) - (4*a*c)\n",
    "    \n",
    "    # calculate the roots\n",
    "    x1 = (-b+cmath.sqrt(d))/(2*a)\n",
    "    x2 = (-b-cmath.sqrt(d))/(2*a)\n",
    "    \n",
    "    print('The roots of the quadratic equation are : {} and {}'.format(x1,x2))"
   ]
  },
  {
   "cell_type": "code",
   "execution_count": 27,
   "metadata": {
    "collapsed": false
   },
   "outputs": [
    {
     "name": "stdout",
     "output_type": "stream",
     "text": [
      "The roots of the quadratic equation are : (-2+0j) and (-3+0j)\n"
     ]
    }
   ],
   "source": [
    "a = 1\n",
    "b = 5\n",
    "c = 6\n",
    "solve_quadratic_eqation1(a,b,c)"
   ]
  },
  {
   "cell_type": "markdown",
   "metadata": {},
   "source": [
    "As we could see, now we are able to get the complete solution, (with imaginary parts of the roots).\n",
    "\n",
    "To understand it better, lets feed in a more complex set of numbers."
   ]
  },
  {
   "cell_type": "code",
   "execution_count": 30,
   "metadata": {
    "collapsed": true
   },
   "outputs": [],
   "source": [
    "a = 5.6\n",
    "b = 4.9 + 2j\n",
    "c = 1"
   ]
  },
  {
   "cell_type": "code",
   "execution_count": 31,
   "metadata": {
    "collapsed": false
   },
   "outputs": [
    {
     "name": "stdout",
     "output_type": "stream",
     "text": [
      "The roots of the quadratic equation are : (-0.1744843866903356+0.11846416949406972j) and (-0.7005156133096645-0.47560702663692694j)\n"
     ]
    }
   ],
   "source": [
    "solve_quadratic_eqation1(a,b,c)"
   ]
  }
 ],
 "metadata": {
  "kernelspec": {
   "display_name": "Python 3",
   "language": "python",
   "name": "python3"
  },
  "language_info": {
   "codemirror_mode": {
    "name": "ipython",
    "version": 3
   },
   "file_extension": ".py",
   "mimetype": "text/x-python",
   "name": "python",
   "nbconvert_exporter": "python",
   "pygments_lexer": "ipython3",
   "version": "3.5.2"
  }
 },
 "nbformat": 4,
 "nbformat_minor": 2
}
